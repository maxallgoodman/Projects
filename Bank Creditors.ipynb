{
 "cells": [
  {
   "cell_type": "markdown",
   "metadata": {
    "toc": true
   },
   "source": [
    "<h1>Table of Contents<span class=\"tocSkip\"></span></h1>\n",
    "<div class=\"toc\"><ul class=\"toc-item\"><li><span><a href=\"#Проект-«Предобработка-данных»\" data-toc-modified-id=\"Проект-«Предобработка-данных»-1\"><span class=\"toc-item-num\">1&nbsp;&nbsp;</span>Проект «Предобработка данных»</a></span></li><li><span><a href=\"#Исследование-надёжности-заёмщиков\" data-toc-modified-id=\"Исследование-надёжности-заёмщиков-2\"><span class=\"toc-item-num\">2&nbsp;&nbsp;</span>Исследование надёжности заёмщиков</a></span><ul class=\"toc-item\"><li><span><a href=\"#Открытие-данных.--\" data-toc-modified-id=\"Открытие-данных.---2.1\"><span class=\"toc-item-num\">2.1&nbsp;&nbsp;</span>Открытие данных.  <a id=\"id_1\"></a></a></span></li><li><span><a href=\"#Вывод\" data-toc-modified-id=\"Вывод-2.2\"><span class=\"toc-item-num\">2.2&nbsp;&nbsp;</span>Вывод</a></span></li></ul></li><li><span><a href=\"#Предобработка-данных--\" data-toc-modified-id=\"Предобработка-данных---3\"><span class=\"toc-item-num\">3&nbsp;&nbsp;</span>Предобработка данных  <a id=\"2\"></a></a></span><ul class=\"toc-item\"><li><span><a href=\"#Обработка-пропусков\" data-toc-modified-id=\"Обработка-пропусков-3.1\"><span class=\"toc-item-num\">3.1&nbsp;&nbsp;</span>Обработка пропусков</a></span><ul class=\"toc-item\"><li><span><a href=\"#Вывод\" data-toc-modified-id=\"Вывод-3.1.1\"><span class=\"toc-item-num\">3.1.1&nbsp;&nbsp;</span>Вывод</a></span></li></ul></li><li><span><a href=\"#Замена-типа-данных\" data-toc-modified-id=\"Замена-типа-данных-3.2\"><span class=\"toc-item-num\">3.2&nbsp;&nbsp;</span>Замена типа данных</a></span><ul class=\"toc-item\"><li><span><a href=\"#Вывод\" data-toc-modified-id=\"Вывод-3.2.1\"><span class=\"toc-item-num\">3.2.1&nbsp;&nbsp;</span>Вывод</a></span></li></ul></li><li><span><a href=\"#Обработка-дубликатов\" data-toc-modified-id=\"Обработка-дубликатов-3.3\"><span class=\"toc-item-num\">3.3&nbsp;&nbsp;</span>Обработка дубликатов</a></span><ul class=\"toc-item\"><li><span><a href=\"#Вывод\" data-toc-modified-id=\"Вывод-3.3.1\"><span class=\"toc-item-num\">3.3.1&nbsp;&nbsp;</span>Вывод</a></span></li></ul></li></ul></li><li><span><a href=\"#Лемматизация\" data-toc-modified-id=\"Лемматизация-4\"><span class=\"toc-item-num\">4&nbsp;&nbsp;</span>Лемматизация</a></span><ul class=\"toc-item\"><li><span><a href=\"#Вывод\" data-toc-modified-id=\"Вывод-4.1\"><span class=\"toc-item-num\">4.1&nbsp;&nbsp;</span>Вывод</a></span></li></ul></li><li><span><a href=\"#Категоризация-данных\" data-toc-modified-id=\"Категоризация-данных-5\"><span class=\"toc-item-num\">5&nbsp;&nbsp;</span>Категоризация данных</a></span><ul class=\"toc-item\"><li><span><a href=\"#Вывод\" data-toc-modified-id=\"Вывод-5.1\"><span class=\"toc-item-num\">5.1&nbsp;&nbsp;</span>Вывод</a></span></li></ul></li><li><span><a href=\"#Ответы-на-вопросы\" data-toc-modified-id=\"Ответы-на-вопросы-6\"><span class=\"toc-item-num\">6&nbsp;&nbsp;</span>Ответы на вопросы</a></span><ul class=\"toc-item\"><li><span><a href=\"#Есть-ли-зависимость-между-наличием-детей-и-возвратом-кредита-в-срок?\" data-toc-modified-id=\"Есть-ли-зависимость-между-наличием-детей-и-возвратом-кредита-в-срок?-6.1\"><span class=\"toc-item-num\">6.1&nbsp;&nbsp;</span>Есть ли зависимость между наличием детей и возвратом кредита в срок?</a></span><ul class=\"toc-item\"><li><span><a href=\"#Вывод\" data-toc-modified-id=\"Вывод-6.1.1\"><span class=\"toc-item-num\">6.1.1&nbsp;&nbsp;</span>Вывод</a></span></li></ul></li><li><span><a href=\"#Есть-ли-зависимость-между-семейным-положением-и-возвратом-кредита-в-срок?\" data-toc-modified-id=\"Есть-ли-зависимость-между-семейным-положением-и-возвратом-кредита-в-срок?-6.2\"><span class=\"toc-item-num\">6.2&nbsp;&nbsp;</span>Есть ли зависимость между семейным положением и возвратом кредита в срок?</a></span><ul class=\"toc-item\"><li><span><a href=\"#Вывод\" data-toc-modified-id=\"Вывод-6.2.1\"><span class=\"toc-item-num\">6.2.1&nbsp;&nbsp;</span>Вывод</a></span></li></ul></li><li><span><a href=\"#Есть-ли-зависимость-между-уровнем-дохода-и-возвратом-кредита-в-срок?\" data-toc-modified-id=\"Есть-ли-зависимость-между-уровнем-дохода-и-возвратом-кредита-в-срок?-6.3\"><span class=\"toc-item-num\">6.3&nbsp;&nbsp;</span>Есть ли зависимость между уровнем дохода и возвратом кредита в срок?</a></span><ul class=\"toc-item\"><li><span><a href=\"#Вывод\" data-toc-modified-id=\"Вывод-6.3.1\"><span class=\"toc-item-num\">6.3.1&nbsp;&nbsp;</span>Вывод</a></span></li></ul></li><li><span><a href=\"#Как-разные-цели-кредита-влияют-на-его-возврат-в-срок?\" data-toc-modified-id=\"Как-разные-цели-кредита-влияют-на-его-возврат-в-срок?-6.4\"><span class=\"toc-item-num\">6.4&nbsp;&nbsp;</span>Как разные цели кредита влияют на его возврат в срок?</a></span><ul class=\"toc-item\"><li><span><a href=\"#Вывод\" data-toc-modified-id=\"Вывод-6.4.1\"><span class=\"toc-item-num\">6.4.1&nbsp;&nbsp;</span>Вывод</a></span></li></ul></li></ul></li><li><span><a href=\"#Общий-вывод\" data-toc-modified-id=\"Общий-вывод-7\"><span class=\"toc-item-num\">7&nbsp;&nbsp;</span>Общий вывод</a></span></li><li><span><a href=\"#Чек-лист-готовности-проекта\" data-toc-modified-id=\"Чек-лист-готовности-проекта-8\"><span class=\"toc-item-num\">8&nbsp;&nbsp;</span>Чек-лист готовности проекта</a></span></li></ul></div>"
   ]
  },
  {
   "cell_type": "markdown",
   "metadata": {},
   "source": [
    "# Проект «Предобработка данных»"
   ]
  },
  {
   "cell_type": "markdown",
   "metadata": {},
   "source": [
    "# Исследование надёжности заёмщиков\n",
    "\n",
    "Заказчик — кредитный отдел банка. Нужно разобраться, влияет ли семейное положение и количество детей клиента на факт погашения кредита в срок. Входные данные от банка — статистика о платёжеспособности клиентов.\n",
    "\n",
    "Результаты исследования будут учтены при построении модели **кредитного скоринга** — специальной системы, которая оценивает способность потенциального заёмщика вернуть кредит банку."
   ]
  },
  {
   "cell_type": "markdown",
   "metadata": {},
   "source": [
    "## Открытие данных.  <a id=\"id_1\"></a>"
   ]
  },
  {
   "cell_type": "code",
   "execution_count": 1,
   "metadata": {},
   "outputs": [
    {
     "data": {
      "text/html": [
       "<div>\n",
       "<style scoped>\n",
       "    .dataframe tbody tr th:only-of-type {\n",
       "        vertical-align: middle;\n",
       "    }\n",
       "\n",
       "    .dataframe tbody tr th {\n",
       "        vertical-align: top;\n",
       "    }\n",
       "\n",
       "    .dataframe thead th {\n",
       "        text-align: right;\n",
       "    }\n",
       "</style>\n",
       "<table border=\"1\" class=\"dataframe\">\n",
       "  <thead>\n",
       "    <tr style=\"text-align: right;\">\n",
       "      <th></th>\n",
       "      <th>children</th>\n",
       "      <th>days_employed</th>\n",
       "      <th>dob_years</th>\n",
       "      <th>education</th>\n",
       "      <th>education_id</th>\n",
       "      <th>family_status</th>\n",
       "      <th>family_status_id</th>\n",
       "      <th>gender</th>\n",
       "      <th>income_type</th>\n",
       "      <th>debt</th>\n",
       "      <th>total_income</th>\n",
       "      <th>purpose</th>\n",
       "    </tr>\n",
       "  </thead>\n",
       "  <tbody>\n",
       "    <tr>\n",
       "      <td>0</td>\n",
       "      <td>1</td>\n",
       "      <td>-8437.673028</td>\n",
       "      <td>42</td>\n",
       "      <td>высшее</td>\n",
       "      <td>0</td>\n",
       "      <td>женат / замужем</td>\n",
       "      <td>0</td>\n",
       "      <td>F</td>\n",
       "      <td>сотрудник</td>\n",
       "      <td>0</td>\n",
       "      <td>253875.639453</td>\n",
       "      <td>покупка жилья</td>\n",
       "    </tr>\n",
       "    <tr>\n",
       "      <td>1</td>\n",
       "      <td>1</td>\n",
       "      <td>-4024.803754</td>\n",
       "      <td>36</td>\n",
       "      <td>среднее</td>\n",
       "      <td>1</td>\n",
       "      <td>женат / замужем</td>\n",
       "      <td>0</td>\n",
       "      <td>F</td>\n",
       "      <td>сотрудник</td>\n",
       "      <td>0</td>\n",
       "      <td>112080.014102</td>\n",
       "      <td>приобретение автомобиля</td>\n",
       "    </tr>\n",
       "    <tr>\n",
       "      <td>2</td>\n",
       "      <td>0</td>\n",
       "      <td>-5623.422610</td>\n",
       "      <td>33</td>\n",
       "      <td>Среднее</td>\n",
       "      <td>1</td>\n",
       "      <td>женат / замужем</td>\n",
       "      <td>0</td>\n",
       "      <td>M</td>\n",
       "      <td>сотрудник</td>\n",
       "      <td>0</td>\n",
       "      <td>145885.952297</td>\n",
       "      <td>покупка жилья</td>\n",
       "    </tr>\n",
       "    <tr>\n",
       "      <td>3</td>\n",
       "      <td>3</td>\n",
       "      <td>-4124.747207</td>\n",
       "      <td>32</td>\n",
       "      <td>среднее</td>\n",
       "      <td>1</td>\n",
       "      <td>женат / замужем</td>\n",
       "      <td>0</td>\n",
       "      <td>M</td>\n",
       "      <td>сотрудник</td>\n",
       "      <td>0</td>\n",
       "      <td>267628.550329</td>\n",
       "      <td>дополнительное образование</td>\n",
       "    </tr>\n",
       "    <tr>\n",
       "      <td>4</td>\n",
       "      <td>0</td>\n",
       "      <td>340266.072047</td>\n",
       "      <td>53</td>\n",
       "      <td>среднее</td>\n",
       "      <td>1</td>\n",
       "      <td>гражданский брак</td>\n",
       "      <td>1</td>\n",
       "      <td>F</td>\n",
       "      <td>пенсионер</td>\n",
       "      <td>0</td>\n",
       "      <td>158616.077870</td>\n",
       "      <td>сыграть свадьбу</td>\n",
       "    </tr>\n",
       "  </tbody>\n",
       "</table>\n",
       "</div>"
      ],
      "text/plain": [
       "   children  days_employed  dob_years education  education_id  \\\n",
       "0         1   -8437.673028         42    высшее             0   \n",
       "1         1   -4024.803754         36   среднее             1   \n",
       "2         0   -5623.422610         33   Среднее             1   \n",
       "3         3   -4124.747207         32   среднее             1   \n",
       "4         0  340266.072047         53   среднее             1   \n",
       "\n",
       "      family_status  family_status_id gender income_type  debt   total_income  \\\n",
       "0   женат / замужем                 0      F   сотрудник     0  253875.639453   \n",
       "1   женат / замужем                 0      F   сотрудник     0  112080.014102   \n",
       "2   женат / замужем                 0      M   сотрудник     0  145885.952297   \n",
       "3   женат / замужем                 0      M   сотрудник     0  267628.550329   \n",
       "4  гражданский брак                 1      F   пенсионер     0  158616.077870   \n",
       "\n",
       "                      purpose  \n",
       "0               покупка жилья  \n",
       "1     приобретение автомобиля  \n",
       "2               покупка жилья  \n",
       "3  дополнительное образование  \n",
       "4             сыграть свадьбу  "
      ]
     },
     "execution_count": 1,
     "metadata": {},
     "output_type": "execute_result"
    }
   ],
   "source": [
    "import pandas as pd\n",
    "from pymystem3 import Mystem\n",
    "from collections import Counter\n",
    "\n",
    "df = pd.read_csv('/datasets/data.csv')\n",
    "df.head(5)"
   ]
  },
  {
   "cell_type": "code",
   "execution_count": 2,
   "metadata": {},
   "outputs": [
    {
     "data": {
      "text/html": [
       "<div>\n",
       "<style scoped>\n",
       "    .dataframe tbody tr th:only-of-type {\n",
       "        vertical-align: middle;\n",
       "    }\n",
       "\n",
       "    .dataframe tbody tr th {\n",
       "        vertical-align: top;\n",
       "    }\n",
       "\n",
       "    .dataframe thead th {\n",
       "        text-align: right;\n",
       "    }\n",
       "</style>\n",
       "<table border=\"1\" class=\"dataframe\">\n",
       "  <thead>\n",
       "    <tr style=\"text-align: right;\">\n",
       "      <th></th>\n",
       "      <th>children</th>\n",
       "      <th>days_employed</th>\n",
       "      <th>dob_years</th>\n",
       "      <th>education</th>\n",
       "      <th>education_id</th>\n",
       "      <th>family_status</th>\n",
       "      <th>family_status_id</th>\n",
       "      <th>gender</th>\n",
       "      <th>income_type</th>\n",
       "      <th>debt</th>\n",
       "      <th>total_income</th>\n",
       "      <th>purpose</th>\n",
       "    </tr>\n",
       "  </thead>\n",
       "  <tbody>\n",
       "    <tr>\n",
       "      <td>21520</td>\n",
       "      <td>1</td>\n",
       "      <td>-4529.316663</td>\n",
       "      <td>43</td>\n",
       "      <td>среднее</td>\n",
       "      <td>1</td>\n",
       "      <td>гражданский брак</td>\n",
       "      <td>1</td>\n",
       "      <td>F</td>\n",
       "      <td>компаньон</td>\n",
       "      <td>0</td>\n",
       "      <td>224791.862382</td>\n",
       "      <td>операции с жильем</td>\n",
       "    </tr>\n",
       "    <tr>\n",
       "      <td>21521</td>\n",
       "      <td>0</td>\n",
       "      <td>343937.404131</td>\n",
       "      <td>67</td>\n",
       "      <td>среднее</td>\n",
       "      <td>1</td>\n",
       "      <td>женат / замужем</td>\n",
       "      <td>0</td>\n",
       "      <td>F</td>\n",
       "      <td>пенсионер</td>\n",
       "      <td>0</td>\n",
       "      <td>155999.806512</td>\n",
       "      <td>сделка с автомобилем</td>\n",
       "    </tr>\n",
       "    <tr>\n",
       "      <td>21522</td>\n",
       "      <td>1</td>\n",
       "      <td>-2113.346888</td>\n",
       "      <td>38</td>\n",
       "      <td>среднее</td>\n",
       "      <td>1</td>\n",
       "      <td>гражданский брак</td>\n",
       "      <td>1</td>\n",
       "      <td>M</td>\n",
       "      <td>сотрудник</td>\n",
       "      <td>1</td>\n",
       "      <td>89672.561153</td>\n",
       "      <td>недвижимость</td>\n",
       "    </tr>\n",
       "    <tr>\n",
       "      <td>21523</td>\n",
       "      <td>3</td>\n",
       "      <td>-3112.481705</td>\n",
       "      <td>38</td>\n",
       "      <td>среднее</td>\n",
       "      <td>1</td>\n",
       "      <td>женат / замужем</td>\n",
       "      <td>0</td>\n",
       "      <td>M</td>\n",
       "      <td>сотрудник</td>\n",
       "      <td>1</td>\n",
       "      <td>244093.050500</td>\n",
       "      <td>на покупку своего автомобиля</td>\n",
       "    </tr>\n",
       "    <tr>\n",
       "      <td>21524</td>\n",
       "      <td>2</td>\n",
       "      <td>-1984.507589</td>\n",
       "      <td>40</td>\n",
       "      <td>среднее</td>\n",
       "      <td>1</td>\n",
       "      <td>женат / замужем</td>\n",
       "      <td>0</td>\n",
       "      <td>F</td>\n",
       "      <td>сотрудник</td>\n",
       "      <td>0</td>\n",
       "      <td>82047.418899</td>\n",
       "      <td>на покупку автомобиля</td>\n",
       "    </tr>\n",
       "  </tbody>\n",
       "</table>\n",
       "</div>"
      ],
      "text/plain": [
       "       children  days_employed  dob_years education  education_id  \\\n",
       "21520         1   -4529.316663         43   среднее             1   \n",
       "21521         0  343937.404131         67   среднее             1   \n",
       "21522         1   -2113.346888         38   среднее             1   \n",
       "21523         3   -3112.481705         38   среднее             1   \n",
       "21524         2   -1984.507589         40   среднее             1   \n",
       "\n",
       "          family_status  family_status_id gender income_type  debt  \\\n",
       "21520  гражданский брак                 1      F   компаньон     0   \n",
       "21521   женат / замужем                 0      F   пенсионер     0   \n",
       "21522  гражданский брак                 1      M   сотрудник     1   \n",
       "21523   женат / замужем                 0      M   сотрудник     1   \n",
       "21524   женат / замужем                 0      F   сотрудник     0   \n",
       "\n",
       "        total_income                       purpose  \n",
       "21520  224791.862382             операции с жильем  \n",
       "21521  155999.806512          сделка с автомобилем  \n",
       "21522   89672.561153                  недвижимость  \n",
       "21523  244093.050500  на покупку своего автомобиля  \n",
       "21524   82047.418899         на покупку автомобиля  "
      ]
     },
     "execution_count": 2,
     "metadata": {},
     "output_type": "execute_result"
    }
   ],
   "source": [
    "df.tail(5)"
   ]
  },
  {
   "cell_type": "code",
   "execution_count": 3,
   "metadata": {},
   "outputs": [
    {
     "name": "stdout",
     "output_type": "stream",
     "text": [
      "<class 'pandas.core.frame.DataFrame'>\n",
      "RangeIndex: 21525 entries, 0 to 21524\n",
      "Data columns (total 12 columns):\n",
      "children            21525 non-null int64\n",
      "days_employed       19351 non-null float64\n",
      "dob_years           21525 non-null int64\n",
      "education           21525 non-null object\n",
      "education_id        21525 non-null int64\n",
      "family_status       21525 non-null object\n",
      "family_status_id    21525 non-null int64\n",
      "gender              21525 non-null object\n",
      "income_type         21525 non-null object\n",
      "debt                21525 non-null int64\n",
      "total_income        19351 non-null float64\n",
      "purpose             21525 non-null object\n",
      "dtypes: float64(2), int64(5), object(5)\n",
      "memory usage: 2.0+ MB\n"
     ]
    }
   ],
   "source": [
    "df.info()"
   ]
  },
  {
   "cell_type": "code",
   "execution_count": 4,
   "metadata": {},
   "outputs": [
    {
     "data": {
      "text/html": [
       "<div>\n",
       "<style scoped>\n",
       "    .dataframe tbody tr th:only-of-type {\n",
       "        vertical-align: middle;\n",
       "    }\n",
       "\n",
       "    .dataframe tbody tr th {\n",
       "        vertical-align: top;\n",
       "    }\n",
       "\n",
       "    .dataframe thead th {\n",
       "        text-align: right;\n",
       "    }\n",
       "</style>\n",
       "<table border=\"1\" class=\"dataframe\">\n",
       "  <thead>\n",
       "    <tr style=\"text-align: right;\">\n",
       "      <th></th>\n",
       "      <th>children</th>\n",
       "      <th>days_employed</th>\n",
       "      <th>dob_years</th>\n",
       "      <th>education_id</th>\n",
       "      <th>family_status_id</th>\n",
       "      <th>debt</th>\n",
       "      <th>total_income</th>\n",
       "    </tr>\n",
       "  </thead>\n",
       "  <tbody>\n",
       "    <tr>\n",
       "      <td>count</td>\n",
       "      <td>21525.000000</td>\n",
       "      <td>19351.000000</td>\n",
       "      <td>21525.000000</td>\n",
       "      <td>21525.000000</td>\n",
       "      <td>21525.000000</td>\n",
       "      <td>21525.000000</td>\n",
       "      <td>1.935100e+04</td>\n",
       "    </tr>\n",
       "    <tr>\n",
       "      <td>mean</td>\n",
       "      <td>0.538908</td>\n",
       "      <td>63046.497661</td>\n",
       "      <td>43.293380</td>\n",
       "      <td>0.817236</td>\n",
       "      <td>0.972544</td>\n",
       "      <td>0.080883</td>\n",
       "      <td>1.674223e+05</td>\n",
       "    </tr>\n",
       "    <tr>\n",
       "      <td>std</td>\n",
       "      <td>1.381587</td>\n",
       "      <td>140827.311974</td>\n",
       "      <td>12.574584</td>\n",
       "      <td>0.548138</td>\n",
       "      <td>1.420324</td>\n",
       "      <td>0.272661</td>\n",
       "      <td>1.029716e+05</td>\n",
       "    </tr>\n",
       "    <tr>\n",
       "      <td>min</td>\n",
       "      <td>-1.000000</td>\n",
       "      <td>-18388.949901</td>\n",
       "      <td>0.000000</td>\n",
       "      <td>0.000000</td>\n",
       "      <td>0.000000</td>\n",
       "      <td>0.000000</td>\n",
       "      <td>2.066726e+04</td>\n",
       "    </tr>\n",
       "    <tr>\n",
       "      <td>25%</td>\n",
       "      <td>0.000000</td>\n",
       "      <td>-2747.423625</td>\n",
       "      <td>33.000000</td>\n",
       "      <td>1.000000</td>\n",
       "      <td>0.000000</td>\n",
       "      <td>0.000000</td>\n",
       "      <td>1.030532e+05</td>\n",
       "    </tr>\n",
       "    <tr>\n",
       "      <td>50%</td>\n",
       "      <td>0.000000</td>\n",
       "      <td>-1203.369529</td>\n",
       "      <td>42.000000</td>\n",
       "      <td>1.000000</td>\n",
       "      <td>0.000000</td>\n",
       "      <td>0.000000</td>\n",
       "      <td>1.450179e+05</td>\n",
       "    </tr>\n",
       "    <tr>\n",
       "      <td>75%</td>\n",
       "      <td>1.000000</td>\n",
       "      <td>-291.095954</td>\n",
       "      <td>53.000000</td>\n",
       "      <td>1.000000</td>\n",
       "      <td>1.000000</td>\n",
       "      <td>0.000000</td>\n",
       "      <td>2.034351e+05</td>\n",
       "    </tr>\n",
       "    <tr>\n",
       "      <td>max</td>\n",
       "      <td>20.000000</td>\n",
       "      <td>401755.400475</td>\n",
       "      <td>75.000000</td>\n",
       "      <td>4.000000</td>\n",
       "      <td>4.000000</td>\n",
       "      <td>1.000000</td>\n",
       "      <td>2.265604e+06</td>\n",
       "    </tr>\n",
       "  </tbody>\n",
       "</table>\n",
       "</div>"
      ],
      "text/plain": [
       "           children  days_employed     dob_years  education_id  \\\n",
       "count  21525.000000   19351.000000  21525.000000  21525.000000   \n",
       "mean       0.538908   63046.497661     43.293380      0.817236   \n",
       "std        1.381587  140827.311974     12.574584      0.548138   \n",
       "min       -1.000000  -18388.949901      0.000000      0.000000   \n",
       "25%        0.000000   -2747.423625     33.000000      1.000000   \n",
       "50%        0.000000   -1203.369529     42.000000      1.000000   \n",
       "75%        1.000000    -291.095954     53.000000      1.000000   \n",
       "max       20.000000  401755.400475     75.000000      4.000000   \n",
       "\n",
       "       family_status_id          debt  total_income  \n",
       "count      21525.000000  21525.000000  1.935100e+04  \n",
       "mean           0.972544      0.080883  1.674223e+05  \n",
       "std            1.420324      0.272661  1.029716e+05  \n",
       "min            0.000000      0.000000  2.066726e+04  \n",
       "25%            0.000000      0.000000  1.030532e+05  \n",
       "50%            0.000000      0.000000  1.450179e+05  \n",
       "75%            1.000000      0.000000  2.034351e+05  \n",
       "max            4.000000      1.000000  2.265604e+06  "
      ]
     },
     "execution_count": 4,
     "metadata": {},
     "output_type": "execute_result"
    }
   ],
   "source": [
    "df.describe()"
   ]
  },
  {
   "cell_type": "markdown",
   "metadata": {},
   "source": [
    "## Вывод"
   ]
  },
  {
   "cell_type": "markdown",
   "metadata": {},
   "source": [
    "После первоначального ознакомления с данными можно уже увидеть что нужно будет сделать на этапе предобработки данных, есть пропуски, проблемы с регистром, отрицательные значения, где их быть не должно, наименования столбцов тоже не мешало бы причесать для удобства. Типы данных тоже следует привести в порядок. "
   ]
  },
  {
   "cell_type": "markdown",
   "metadata": {},
   "source": [
    "#  Предобработка данных  <a id=\"2\"></a>\n",
    "-Обработка пропусков  \n",
    "-Дубликатов  \n",
    "-Замена типов данных  "
   ]
  },
  {
   "cell_type": "markdown",
   "metadata": {},
   "source": [
    "## Обработка пропусков"
   ]
  },
  {
   "cell_type": "markdown",
   "metadata": {},
   "source": [
    "Получим список столбцов и переименуем их"
   ]
  },
  {
   "cell_type": "code",
   "execution_count": 5,
   "metadata": {
    "scrolled": true
   },
   "outputs": [
    {
     "data": {
      "text/plain": [
       "['children',\n",
       " 'days_employed',\n",
       " 'dob_years',\n",
       " 'education',\n",
       " 'education_id',\n",
       " 'family_status',\n",
       " 'family_status_id',\n",
       " 'gender',\n",
       " 'income_type',\n",
       " 'debt',\n",
       " 'total_income',\n",
       " 'purpose']"
      ]
     },
     "execution_count": 5,
     "metadata": {},
     "output_type": "execute_result"
    }
   ],
   "source": [
    "df.columns.values.tolist() \n",
    "\n"
   ]
  },
  {
   "cell_type": "markdown",
   "metadata": {},
   "source": [
    "Переименуем столбцы"
   ]
  },
  {
   "cell_type": "code",
   "execution_count": 6,
   "metadata": {},
   "outputs": [],
   "source": [
    "df.set_axis(['children','days_employed', 'client_years', \n",
    "             'education', 'education_id', 'family_status', \n",
    "             'family_status_id', 'gender', 'client_category',\n",
    "             'loan_return_status', 'income', 'purpose'], axis = 'columns', inplace = True)\n"
   ]
  },
  {
   "cell_type": "code",
   "execution_count": 7,
   "metadata": {},
   "outputs": [
    {
     "data": {
      "text/plain": [
       "['children',\n",
       " 'days_employed',\n",
       " 'client_years',\n",
       " 'education',\n",
       " 'education_id',\n",
       " 'family_status',\n",
       " 'family_status_id',\n",
       " 'gender',\n",
       " 'client_category',\n",
       " 'loan_return_status',\n",
       " 'income',\n",
       " 'purpose']"
      ]
     },
     "execution_count": 7,
     "metadata": {},
     "output_type": "execute_result"
    }
   ],
   "source": [
    "df.columns.values.tolist()"
   ]
  },
  {
   "cell_type": "markdown",
   "metadata": {},
   "source": [
    "Определим и заполним пропущенные значения."
   ]
  },
  {
   "cell_type": "code",
   "execution_count": 8,
   "metadata": {},
   "outputs": [
    {
     "data": {
      "text/plain": [
       "children                 0\n",
       "days_employed         2174\n",
       "client_years             0\n",
       "education                0\n",
       "education_id             0\n",
       "family_status            0\n",
       "family_status_id         0\n",
       "gender                   0\n",
       "client_category          0\n",
       "loan_return_status       0\n",
       "income                2174\n",
       "purpose                  0\n",
       "dtype: int64"
      ]
     },
     "execution_count": 8,
     "metadata": {},
     "output_type": "execute_result"
    }
   ],
   "source": [
    "df.isnull().sum()"
   ]
  },
  {
   "cell_type": "markdown",
   "metadata": {},
   "source": [
    "Количество пропусков в двух столбцах идентичны. Надо понять почему. У нас пропуски в стаже и в уровне дохода. Пустые значения Nan в доходе и в стаже работы - значит скорее всего эти люди не работали и не имеют дохода, т.к. количество точно совпадает в обеих категориях. \n",
    "\n",
    "\n",
    "\n"
   ]
  },
  {
   "cell_type": "code",
   "execution_count": 9,
   "metadata": {},
   "outputs": [],
   "source": [
    "df['days_employed'] = df['days_employed'].fillna(0) #меняем пропуски на нули в 'days_employed'"
   ]
  },
  {
   "cell_type": "code",
   "execution_count": 10,
   "metadata": {},
   "outputs": [],
   "source": [
    "df['income'] = df['income'].fillna(0) #меняем пропуски на нули в 'income'"
   ]
  },
  {
   "cell_type": "code",
   "execution_count": 11,
   "metadata": {},
   "outputs": [
    {
     "data": {
      "text/plain": [
       "children              0\n",
       "days_employed         0\n",
       "client_years          0\n",
       "education             0\n",
       "education_id          0\n",
       "family_status         0\n",
       "family_status_id      0\n",
       "gender                0\n",
       "client_category       0\n",
       "loan_return_status    0\n",
       "income                0\n",
       "purpose               0\n",
       "dtype: int64"
      ]
     },
     "execution_count": 11,
     "metadata": {},
     "output_type": "execute_result"
    }
   ],
   "source": [
    "df.isnull().sum() #чек"
   ]
  },
  {
   "cell_type": "markdown",
   "metadata": {},
   "source": [
    "### Вывод"
   ]
  },
  {
   "cell_type": "markdown",
   "metadata": {},
   "source": [
    "Пропуски заполнили нулями. \n",
    "\n",
    "Следует изменить форму заполнения (получения) данных клиентов, чтобы в таких случаях как у нас (люди без стажа и дохода) в них выставлялись значения 0 - для будущих исследований и анализа. Эту инфу следует донести до тех, кто работает над этой формой в банке (через тим лида/руководство/самому (в зависимости от ситуации)), чтобы улучшить процессы внутри компании.\n",
    "\n",
    "Почему заполняем нулями? Потому-что это наиболее логичный метод в данной ситуации, который не будет искажать результаты исследований."
   ]
  },
  {
   "cell_type": "markdown",
   "metadata": {},
   "source": [
    "## Замена типа данных"
   ]
  },
  {
   "cell_type": "markdown",
   "metadata": {},
   "source": [
    "\n",
    "Приведём в порядок типы данных:"
   ]
  },
  {
   "cell_type": "code",
   "execution_count": 12,
   "metadata": {},
   "outputs": [
    {
     "data": {
      "text/plain": [
       "children                int64\n",
       "days_employed         float64\n",
       "client_years            int64\n",
       "education              object\n",
       "education_id            int64\n",
       "family_status          object\n",
       "family_status_id        int64\n",
       "gender                 object\n",
       "client_category        object\n",
       "loan_return_status      int64\n",
       "income                float64\n",
       "purpose                object\n",
       "dtype: object"
      ]
     },
     "execution_count": 12,
     "metadata": {},
     "output_type": "execute_result"
    }
   ],
   "source": [
    "df.dtypes #посмотрим что у нас есть"
   ]
  },
  {
   "cell_type": "markdown",
   "metadata": {},
   "source": [
    "2 столбца имеют формат float64 , превратим их целочисленные значения. "
   ]
  },
  {
   "cell_type": "code",
   "execution_count": 13,
   "metadata": {},
   "outputs": [
    {
     "data": {
      "text/plain": [
       "children               int64\n",
       "days_employed          int64\n",
       "client_years           int64\n",
       "education             object\n",
       "education_id           int64\n",
       "family_status         object\n",
       "family_status_id       int64\n",
       "gender                object\n",
       "client_category       object\n",
       "loan_return_status     int64\n",
       "income                 int64\n",
       "purpose               object\n",
       "dtype: object"
      ]
     },
     "execution_count": 13,
     "metadata": {},
     "output_type": "execute_result"
    }
   ],
   "source": [
    "df['days_employed'] = df['days_employed'].astype('int') \n",
    "df['income'] = df['income'].astype('int') \n",
    "df.dtypes #проверка"
   ]
  },
  {
   "cell_type": "markdown",
   "metadata": {},
   "source": [
    "### Вывод"
   ]
  },
  {
   "cell_type": "markdown",
   "metadata": {},
   "source": [
    "Для изменения типов данных использовался метод .astype для приведения данных в целочисленные значения, для удобства в дальнейшем исследовании. Т.к. данные после запятой очень незначительны, влиянием их на исследование можно пренебречь. "
   ]
  },
  {
   "cell_type": "markdown",
   "metadata": {},
   "source": [
    "## Обработка дубликатов"
   ]
  },
  {
   "cell_type": "code",
   "execution_count": 14,
   "metadata": {},
   "outputs": [
    {
     "data": {
      "text/plain": [
       "54"
      ]
     },
     "execution_count": 14,
     "metadata": {},
     "output_type": "execute_result"
    }
   ],
   "source": [
    "df.duplicated().sum()"
   ]
  },
  {
   "cell_type": "markdown",
   "metadata": {},
   "source": [
    "На данном этапе обработки данных 54 дубля. Хорошо бы понять, почему они появились. \n",
    "\n",
    "У нас нет конкретных данных по ФИО клиентов, поэтому непонятно, дубли являются тем же самым лицом или это разные люди. \n",
    "Вопросы к тому как собираются данные, и как они обрабатываются. Будем считать это ошибкой выгрузки данных и удалим дубли. "
   ]
  },
  {
   "cell_type": "code",
   "execution_count": 15,
   "metadata": {},
   "outputs": [],
   "source": [
    "df = df.drop_duplicates().reset_index(drop=True) #дропаем"
   ]
  },
  {
   "cell_type": "code",
   "execution_count": 16,
   "metadata": {},
   "outputs": [
    {
     "data": {
      "text/plain": [
       "0"
      ]
     },
     "execution_count": 16,
     "metadata": {},
     "output_type": "execute_result"
    }
   ],
   "source": [
    "df.duplicated().sum() #чек"
   ]
  },
  {
   "cell_type": "markdown",
   "metadata": {},
   "source": [
    "Дубли удалены. "
   ]
  },
  {
   "cell_type": "markdown",
   "metadata": {},
   "source": [
    "Теперь перейдём к столбцам с регистром. \n",
    "На этапе ознакомления с данными, сразу бросилось в глаза, что некоторые значения в 'education' указаны капсом, хорошо будет преобразовать их в нижний регистр. И для удобства в дальнейшей работе и нашего спокойствия, можно преобразовать вообще все столбцы с текстовыми обозначениями/категориями к единому регистру."
   ]
  },
  {
   "cell_type": "code",
   "execution_count": 17,
   "metadata": {},
   "outputs": [],
   "source": [
    "df['education'] = df['education'].str.lower() \n",
    "df['family_status'] = df['family_status'].str.lower()\n",
    "df['client_category'] = df['client_category'].str.lower()\n",
    "df['purpose'] = df['purpose'].str.lower()"
   ]
  },
  {
   "cell_type": "code",
   "execution_count": 18,
   "metadata": {},
   "outputs": [
    {
     "data": {
      "text/html": [
       "<div>\n",
       "<style scoped>\n",
       "    .dataframe tbody tr th:only-of-type {\n",
       "        vertical-align: middle;\n",
       "    }\n",
       "\n",
       "    .dataframe tbody tr th {\n",
       "        vertical-align: top;\n",
       "    }\n",
       "\n",
       "    .dataframe thead th {\n",
       "        text-align: right;\n",
       "    }\n",
       "</style>\n",
       "<table border=\"1\" class=\"dataframe\">\n",
       "  <thead>\n",
       "    <tr style=\"text-align: right;\">\n",
       "      <th></th>\n",
       "      <th>children</th>\n",
       "      <th>days_employed</th>\n",
       "      <th>client_years</th>\n",
       "      <th>education</th>\n",
       "      <th>education_id</th>\n",
       "      <th>family_status</th>\n",
       "      <th>family_status_id</th>\n",
       "      <th>gender</th>\n",
       "      <th>client_category</th>\n",
       "      <th>loan_return_status</th>\n",
       "      <th>income</th>\n",
       "      <th>purpose</th>\n",
       "    </tr>\n",
       "  </thead>\n",
       "  <tbody>\n",
       "    <tr>\n",
       "      <td>0</td>\n",
       "      <td>1</td>\n",
       "      <td>-8437</td>\n",
       "      <td>42</td>\n",
       "      <td>высшее</td>\n",
       "      <td>0</td>\n",
       "      <td>женат / замужем</td>\n",
       "      <td>0</td>\n",
       "      <td>F</td>\n",
       "      <td>сотрудник</td>\n",
       "      <td>0</td>\n",
       "      <td>253875</td>\n",
       "      <td>покупка жилья</td>\n",
       "    </tr>\n",
       "    <tr>\n",
       "      <td>1</td>\n",
       "      <td>1</td>\n",
       "      <td>-4024</td>\n",
       "      <td>36</td>\n",
       "      <td>среднее</td>\n",
       "      <td>1</td>\n",
       "      <td>женат / замужем</td>\n",
       "      <td>0</td>\n",
       "      <td>F</td>\n",
       "      <td>сотрудник</td>\n",
       "      <td>0</td>\n",
       "      <td>112080</td>\n",
       "      <td>приобретение автомобиля</td>\n",
       "    </tr>\n",
       "    <tr>\n",
       "      <td>2</td>\n",
       "      <td>0</td>\n",
       "      <td>-5623</td>\n",
       "      <td>33</td>\n",
       "      <td>среднее</td>\n",
       "      <td>1</td>\n",
       "      <td>женат / замужем</td>\n",
       "      <td>0</td>\n",
       "      <td>M</td>\n",
       "      <td>сотрудник</td>\n",
       "      <td>0</td>\n",
       "      <td>145885</td>\n",
       "      <td>покупка жилья</td>\n",
       "    </tr>\n",
       "    <tr>\n",
       "      <td>3</td>\n",
       "      <td>3</td>\n",
       "      <td>-4124</td>\n",
       "      <td>32</td>\n",
       "      <td>среднее</td>\n",
       "      <td>1</td>\n",
       "      <td>женат / замужем</td>\n",
       "      <td>0</td>\n",
       "      <td>M</td>\n",
       "      <td>сотрудник</td>\n",
       "      <td>0</td>\n",
       "      <td>267628</td>\n",
       "      <td>дополнительное образование</td>\n",
       "    </tr>\n",
       "    <tr>\n",
       "      <td>4</td>\n",
       "      <td>0</td>\n",
       "      <td>340266</td>\n",
       "      <td>53</td>\n",
       "      <td>среднее</td>\n",
       "      <td>1</td>\n",
       "      <td>гражданский брак</td>\n",
       "      <td>1</td>\n",
       "      <td>F</td>\n",
       "      <td>пенсионер</td>\n",
       "      <td>0</td>\n",
       "      <td>158616</td>\n",
       "      <td>сыграть свадьбу</td>\n",
       "    </tr>\n",
       "  </tbody>\n",
       "</table>\n",
       "</div>"
      ],
      "text/plain": [
       "   children  days_employed  client_years education  education_id  \\\n",
       "0         1          -8437            42    высшее             0   \n",
       "1         1          -4024            36   среднее             1   \n",
       "2         0          -5623            33   среднее             1   \n",
       "3         3          -4124            32   среднее             1   \n",
       "4         0         340266            53   среднее             1   \n",
       "\n",
       "      family_status  family_status_id gender client_category  \\\n",
       "0   женат / замужем                 0      F       сотрудник   \n",
       "1   женат / замужем                 0      F       сотрудник   \n",
       "2   женат / замужем                 0      M       сотрудник   \n",
       "3   женат / замужем                 0      M       сотрудник   \n",
       "4  гражданский брак                 1      F       пенсионер   \n",
       "\n",
       "   loan_return_status  income                     purpose  \n",
       "0                   0  253875               покупка жилья  \n",
       "1                   0  112080     приобретение автомобиля  \n",
       "2                   0  145885               покупка жилья  \n",
       "3                   0  267628  дополнительное образование  \n",
       "4                   0  158616             сыграть свадьбу  "
      ]
     },
     "execution_count": 18,
     "metadata": {},
     "output_type": "execute_result"
    }
   ],
   "source": [
    "df.head(5) #посмотрим что получилось"
   ]
  },
  {
   "cell_type": "markdown",
   "metadata": {},
   "source": [
    "Всё ок, идём дальше. \n",
    "\n",
    "С последнего взгляда в таблицу, глаз режут эти минусы в графе 'days_employed', самое время разобраться с ними. Понять, почему это произошло, как это решить и как привести данные в порядок для исследования.\n"
   ]
  },
  {
   "cell_type": "code",
   "execution_count": 19,
   "metadata": {},
   "outputs": [
    {
     "data": {
      "text/plain": [
       "401755"
      ]
     },
     "execution_count": 19,
     "metadata": {},
     "output_type": "execute_result"
    }
   ],
   "source": [
    "#для начала посмотрим диапазон значений и попробуем разобраться\n",
    "df['days_employed'].max()"
   ]
  },
  {
   "cell_type": "code",
   "execution_count": 20,
   "metadata": {},
   "outputs": [
    {
     "data": {
      "text/plain": [
       "-18388"
      ]
     },
     "execution_count": 20,
     "metadata": {},
     "output_type": "execute_result"
    }
   ],
   "source": [
    "df['days_employed'].min()"
   ]
  },
  {
   "cell_type": "code",
   "execution_count": 21,
   "metadata": {},
   "outputs": [
    {
     "data": {
      "text/plain": [
       "-989.0"
      ]
     },
     "execution_count": 21,
     "metadata": {},
     "output_type": "execute_result"
    }
   ],
   "source": [
    "df['days_employed'].median()"
   ]
  },
  {
   "cell_type": "code",
   "execution_count": 22,
   "metadata": {},
   "outputs": [
    {
     "data": {
      "text/plain": [
       "56821.71249592474"
      ]
     },
     "execution_count": 22,
     "metadata": {},
     "output_type": "execute_result"
    }
   ],
   "source": [
    "df['days_employed'].mean()"
   ]
  },
  {
   "cell_type": "markdown",
   "metadata": {},
   "source": [
    "Данные очень странные, читать их неудобно, нет наглядности, например непонятно 401755 дней (максимальное значение) - сколько стажа это хотя бы в месяцах, или годах. \n",
    "\n",
    "Также второй вопрос возникает: - каким образом могли появиться отрицательные значения в такой категории данных как стаж? \n",
    "\n",
    "Возможно дело в заполнении датафрейма или в выгрузке, у меня нет данных о том каким способом собирались данные, может при внесении данных электронным способом, некоторые из менеджеров банка ставили символ \"-\" перед цифрой, при вводе данных клиента. Но какой клиент сообщает о своём стаже в днях? Совершеннейшая путанница. Возможно клиенты давали свои сведения стандартно, в годах, а в датафрейм после сбора данных производилась конвертация. \n",
    "\n",
    "Сейчас я вижу следующий вариант использования имеющихся данных - конвертация значений из дней в годы, для удобства и наглядности, а с минусами: - примем отрицательные значения за таковые без знака минус, т.е. преобразуем их в плюс. "
   ]
  },
  {
   "cell_type": "code",
   "execution_count": 23,
   "metadata": {},
   "outputs": [],
   "source": [
    "#убираем минусы\n",
    "df['days_employed'] = df['days_employed'].abs()"
   ]
  },
  {
   "cell_type": "code",
   "execution_count": 24,
   "metadata": {},
   "outputs": [],
   "source": [
    "#конвертируем дни в годы\n",
    "df['years_employed'] = df['days_employed'] / 365\n",
    "df['years_employed'] = df['years_employed'].round(1)"
   ]
  },
  {
   "cell_type": "code",
   "execution_count": 25,
   "metadata": {},
   "outputs": [],
   "source": [
    "#удалим столбец с днями\n",
    "del df['days_employed']"
   ]
  },
  {
   "cell_type": "code",
   "execution_count": 26,
   "metadata": {},
   "outputs": [
    {
     "data": {
      "text/html": [
       "<div>\n",
       "<style scoped>\n",
       "    .dataframe tbody tr th:only-of-type {\n",
       "        vertical-align: middle;\n",
       "    }\n",
       "\n",
       "    .dataframe tbody tr th {\n",
       "        vertical-align: top;\n",
       "    }\n",
       "\n",
       "    .dataframe thead th {\n",
       "        text-align: right;\n",
       "    }\n",
       "</style>\n",
       "<table border=\"1\" class=\"dataframe\">\n",
       "  <thead>\n",
       "    <tr style=\"text-align: right;\">\n",
       "      <th></th>\n",
       "      <th>children</th>\n",
       "      <th>client_years</th>\n",
       "      <th>education</th>\n",
       "      <th>education_id</th>\n",
       "      <th>family_status</th>\n",
       "      <th>family_status_id</th>\n",
       "      <th>gender</th>\n",
       "      <th>client_category</th>\n",
       "      <th>loan_return_status</th>\n",
       "      <th>income</th>\n",
       "      <th>purpose</th>\n",
       "      <th>years_employed</th>\n",
       "    </tr>\n",
       "  </thead>\n",
       "  <tbody>\n",
       "    <tr>\n",
       "      <td>0</td>\n",
       "      <td>1</td>\n",
       "      <td>42</td>\n",
       "      <td>высшее</td>\n",
       "      <td>0</td>\n",
       "      <td>женат / замужем</td>\n",
       "      <td>0</td>\n",
       "      <td>F</td>\n",
       "      <td>сотрудник</td>\n",
       "      <td>0</td>\n",
       "      <td>253875</td>\n",
       "      <td>покупка жилья</td>\n",
       "      <td>23.1</td>\n",
       "    </tr>\n",
       "    <tr>\n",
       "      <td>1</td>\n",
       "      <td>1</td>\n",
       "      <td>36</td>\n",
       "      <td>среднее</td>\n",
       "      <td>1</td>\n",
       "      <td>женат / замужем</td>\n",
       "      <td>0</td>\n",
       "      <td>F</td>\n",
       "      <td>сотрудник</td>\n",
       "      <td>0</td>\n",
       "      <td>112080</td>\n",
       "      <td>приобретение автомобиля</td>\n",
       "      <td>11.0</td>\n",
       "    </tr>\n",
       "    <tr>\n",
       "      <td>2</td>\n",
       "      <td>0</td>\n",
       "      <td>33</td>\n",
       "      <td>среднее</td>\n",
       "      <td>1</td>\n",
       "      <td>женат / замужем</td>\n",
       "      <td>0</td>\n",
       "      <td>M</td>\n",
       "      <td>сотрудник</td>\n",
       "      <td>0</td>\n",
       "      <td>145885</td>\n",
       "      <td>покупка жилья</td>\n",
       "      <td>15.4</td>\n",
       "    </tr>\n",
       "    <tr>\n",
       "      <td>3</td>\n",
       "      <td>3</td>\n",
       "      <td>32</td>\n",
       "      <td>среднее</td>\n",
       "      <td>1</td>\n",
       "      <td>женат / замужем</td>\n",
       "      <td>0</td>\n",
       "      <td>M</td>\n",
       "      <td>сотрудник</td>\n",
       "      <td>0</td>\n",
       "      <td>267628</td>\n",
       "      <td>дополнительное образование</td>\n",
       "      <td>11.3</td>\n",
       "    </tr>\n",
       "    <tr>\n",
       "      <td>4</td>\n",
       "      <td>0</td>\n",
       "      <td>53</td>\n",
       "      <td>среднее</td>\n",
       "      <td>1</td>\n",
       "      <td>гражданский брак</td>\n",
       "      <td>1</td>\n",
       "      <td>F</td>\n",
       "      <td>пенсионер</td>\n",
       "      <td>0</td>\n",
       "      <td>158616</td>\n",
       "      <td>сыграть свадьбу</td>\n",
       "      <td>932.2</td>\n",
       "    </tr>\n",
       "  </tbody>\n",
       "</table>\n",
       "</div>"
      ],
      "text/plain": [
       "   children  client_years education  education_id     family_status  \\\n",
       "0         1            42    высшее             0   женат / замужем   \n",
       "1         1            36   среднее             1   женат / замужем   \n",
       "2         0            33   среднее             1   женат / замужем   \n",
       "3         3            32   среднее             1   женат / замужем   \n",
       "4         0            53   среднее             1  гражданский брак   \n",
       "\n",
       "   family_status_id gender client_category  loan_return_status  income  \\\n",
       "0                 0      F       сотрудник                   0  253875   \n",
       "1                 0      F       сотрудник                   0  112080   \n",
       "2                 0      M       сотрудник                   0  145885   \n",
       "3                 0      M       сотрудник                   0  267628   \n",
       "4                 1      F       пенсионер                   0  158616   \n",
       "\n",
       "                      purpose  years_employed  \n",
       "0               покупка жилья            23.1  \n",
       "1     приобретение автомобиля            11.0  \n",
       "2               покупка жилья            15.4  \n",
       "3  дополнительное образование            11.3  \n",
       "4             сыграть свадьбу           932.2  "
      ]
     },
     "execution_count": 26,
     "metadata": {},
     "output_type": "execute_result"
    }
   ],
   "source": [
    "#смотрим что получилось\n",
    "df.head()"
   ]
  },
  {
   "cell_type": "markdown",
   "metadata": {},
   "source": [
    "Взглянем на получившиеся данные в 'years_employed'"
   ]
  },
  {
   "cell_type": "code",
   "execution_count": 27,
   "metadata": {},
   "outputs": [
    {
     "data": {
      "text/plain": [
       "1100.7"
      ]
     },
     "execution_count": 27,
     "metadata": {},
     "output_type": "execute_result"
    }
   ],
   "source": [
    "df['years_employed'].max()"
   ]
  },
  {
   "cell_type": "markdown",
   "metadata": {},
   "source": [
    "В максимальных у нас как выяснилось неадекватное число.\n",
    "\n",
    "Полезно понять сколько у нас значений, существенно выходящих за рамки приемлимых и нормальных, т.е. заведомо нереалистичных данных, и понять что у них общего, возможно в этом есть какая-то закономерность, позволяющая разобраться с этими данными. \n",
    "\n"
   ]
  },
  {
   "cell_type": "code",
   "execution_count": 28,
   "metadata": {},
   "outputs": [
    {
     "data": {
      "text/plain": [
       "165.22554142797262"
      ]
     },
     "execution_count": 28,
     "metadata": {},
     "output_type": "execute_result"
    }
   ],
   "source": [
    "df['years_employed'].mean()"
   ]
  },
  {
   "cell_type": "markdown",
   "metadata": {},
   "source": [
    "Из-за максимального значения у нас сбито и среднее значение, тут может помочь медиана."
   ]
  },
  {
   "cell_type": "code",
   "execution_count": 29,
   "metadata": {},
   "outputs": [
    {
     "data": {
      "text/plain": [
       "5.0"
      ]
     },
     "execution_count": 29,
     "metadata": {},
     "output_type": "execute_result"
    }
   ],
   "source": [
    "df['years_employed'].median()"
   ]
  },
  {
   "cell_type": "markdown",
   "metadata": {},
   "source": [
    "Медианное значение выглядит неплохо, около пяти лет, вполне себе нормальное значение для трудового стажа в данной выборке. Т.к. в вопросах поставленных перед исследованием, нет вопросов касающихся длительности стажа клиентов - значения столбца можно оставить как есть.\n",
    "\n",
    "Минимумы смотреть не стал, потому-что использована функция .abs и изменены все значения в фактическое значение ввода без учета знака. С учётом того, что ранее мною были заполнены пропуски на нули в данном столбце - можно сразу сделать вывод, что минимальное значение будет равно нулю.\n",
    "\n"
   ]
  },
  {
   "cell_type": "code",
   "execution_count": 30,
   "metadata": {},
   "outputs": [
    {
     "data": {
      "text/plain": [
       "17"
      ]
     },
     "execution_count": 30,
     "metadata": {},
     "output_type": "execute_result"
    }
   ],
   "source": [
    "df.duplicated().sum() "
   ]
  },
  {
   "cell_type": "code",
   "execution_count": 31,
   "metadata": {},
   "outputs": [],
   "source": [
    "df = df.drop_duplicates().reset_index(drop=True) "
   ]
  },
  {
   "cell_type": "markdown",
   "metadata": {},
   "source": [
    "Мы же сделали выравнивание по нижнему регистру, и скорее всего некоторые из выравненных строк тоже были дублями. Удаляем."
   ]
  },
  {
   "cell_type": "code",
   "execution_count": 32,
   "metadata": {},
   "outputs": [
    {
     "data": {
      "text/plain": [
       "0"
      ]
     },
     "execution_count": 32,
     "metadata": {},
     "output_type": "execute_result"
    }
   ],
   "source": [
    "df.duplicated().sum() #проверяем"
   ]
  },
  {
   "cell_type": "markdown",
   "metadata": {},
   "source": [
    "### Вывод"
   ]
  },
  {
   "cell_type": "markdown",
   "metadata": {},
   "source": [
    "Дубли удалены плюс проведена работа с приведением текстовых значений к нижнему регистру и произведена конвертация стажа работы клиентов из дней в годы, а также избавились от отрицательных значений."
   ]
  },
  {
   "cell_type": "markdown",
   "metadata": {},
   "source": [
    "# Лемматизация"
   ]
  },
  {
   "cell_type": "markdown",
   "metadata": {},
   "source": [
    "Взглянем на каждое значение в целях кредита:"
   ]
  },
  {
   "cell_type": "code",
   "execution_count": 33,
   "metadata": {},
   "outputs": [
    {
     "data": {
      "text/plain": [
       "array(['покупка жилья', 'приобретение автомобиля',\n",
       "       'дополнительное образование', 'сыграть свадьбу',\n",
       "       'операции с жильем', 'образование', 'на проведение свадьбы',\n",
       "       'покупка жилья для семьи', 'покупка недвижимости',\n",
       "       'покупка коммерческой недвижимости', 'покупка жилой недвижимости',\n",
       "       'строительство собственной недвижимости', 'недвижимость',\n",
       "       'строительство недвижимости', 'на покупку подержанного автомобиля',\n",
       "       'на покупку своего автомобиля',\n",
       "       'операции с коммерческой недвижимостью',\n",
       "       'строительство жилой недвижимости', 'жилье',\n",
       "       'операции со своей недвижимостью', 'автомобили',\n",
       "       'заняться образованием', 'сделка с подержанным автомобилем',\n",
       "       'получение образования', 'автомобиль', 'свадьба',\n",
       "       'получение дополнительного образования', 'покупка своего жилья',\n",
       "       'операции с недвижимостью', 'получение высшего образования',\n",
       "       'свой автомобиль', 'сделка с автомобилем',\n",
       "       'профильное образование', 'высшее образование',\n",
       "       'покупка жилья для сдачи', 'на покупку автомобиля', 'ремонт жилью',\n",
       "       'заняться высшим образованием'], dtype=object)"
      ]
     },
     "execution_count": 33,
     "metadata": {},
     "output_type": "execute_result"
    }
   ],
   "source": [
    "df['purpose'].unique() "
   ]
  },
  {
   "cell_type": "code",
   "execution_count": 34,
   "metadata": {},
   "outputs": [
    {
     "data": {
      "text/html": [
       "<div>\n",
       "<style scoped>\n",
       "    .dataframe tbody tr th:only-of-type {\n",
       "        vertical-align: middle;\n",
       "    }\n",
       "\n",
       "    .dataframe tbody tr th {\n",
       "        vertical-align: top;\n",
       "    }\n",
       "\n",
       "    .dataframe thead th {\n",
       "        text-align: right;\n",
       "    }\n",
       "</style>\n",
       "<table border=\"1\" class=\"dataframe\">\n",
       "  <thead>\n",
       "    <tr style=\"text-align: right;\">\n",
       "      <th></th>\n",
       "      <th>children</th>\n",
       "      <th>client_years</th>\n",
       "      <th>education</th>\n",
       "      <th>education_id</th>\n",
       "      <th>family_status</th>\n",
       "      <th>family_status_id</th>\n",
       "      <th>gender</th>\n",
       "      <th>client_category</th>\n",
       "      <th>loan_return_status</th>\n",
       "      <th>income</th>\n",
       "      <th>purpose</th>\n",
       "      <th>years_employed</th>\n",
       "      <th>main_purpose</th>\n",
       "    </tr>\n",
       "  </thead>\n",
       "  <tbody>\n",
       "    <tr>\n",
       "      <td>14220</td>\n",
       "      <td>0</td>\n",
       "      <td>52</td>\n",
       "      <td>среднее</td>\n",
       "      <td>1</td>\n",
       "      <td>женат / замужем</td>\n",
       "      <td>0</td>\n",
       "      <td>F</td>\n",
       "      <td>сотрудник</td>\n",
       "      <td>0</td>\n",
       "      <td>206561</td>\n",
       "      <td>недвижимость</td>\n",
       "      <td>29.4</td>\n",
       "      <td>[недвижимость, \\n]</td>\n",
       "    </tr>\n",
       "    <tr>\n",
       "      <td>20495</td>\n",
       "      <td>0</td>\n",
       "      <td>33</td>\n",
       "      <td>среднее</td>\n",
       "      <td>1</td>\n",
       "      <td>женат / замужем</td>\n",
       "      <td>0</td>\n",
       "      <td>M</td>\n",
       "      <td>пенсионер</td>\n",
       "      <td>0</td>\n",
       "      <td>163411</td>\n",
       "      <td>образование</td>\n",
       "      <td>913.4</td>\n",
       "      <td>[образование, \\n]</td>\n",
       "    </tr>\n",
       "    <tr>\n",
       "      <td>7255</td>\n",
       "      <td>4</td>\n",
       "      <td>35</td>\n",
       "      <td>среднее</td>\n",
       "      <td>1</td>\n",
       "      <td>гражданский брак</td>\n",
       "      <td>1</td>\n",
       "      <td>M</td>\n",
       "      <td>сотрудник</td>\n",
       "      <td>0</td>\n",
       "      <td>157568</td>\n",
       "      <td>покупка своего жилья</td>\n",
       "      <td>2.7</td>\n",
       "      <td>[покупка,  , свой,  , жилье, \\n]</td>\n",
       "    </tr>\n",
       "  </tbody>\n",
       "</table>\n",
       "</div>"
      ],
      "text/plain": [
       "       children  client_years education  education_id     family_status  \\\n",
       "14220         0            52   среднее             1   женат / замужем   \n",
       "20495         0            33   среднее             1   женат / замужем   \n",
       "7255          4            35   среднее             1  гражданский брак   \n",
       "\n",
       "       family_status_id gender client_category  loan_return_status  income  \\\n",
       "14220                 0      F       сотрудник                   0  206561   \n",
       "20495                 0      M       пенсионер                   0  163411   \n",
       "7255                  1      M       сотрудник                   0  157568   \n",
       "\n",
       "                    purpose  years_employed                      main_purpose  \n",
       "14220          недвижимость            29.4                [недвижимость, \\n]  \n",
       "20495           образование           913.4                 [образование, \\n]  \n",
       "7255   покупка своего жилья             2.7  [покупка,  , свой,  , жилье, \\n]  "
      ]
     },
     "execution_count": 34,
     "metadata": {},
     "output_type": "execute_result"
    }
   ],
   "source": [
    "m = Mystem() #здесь проведём лемматизацию и добавим новый столбец, он нам пригодится в будущем.\n",
    "df['main_purpose'] = df['purpose'].apply(m.lemmatize) \n",
    "df.sample(3)\n"
   ]
  },
  {
   "cell_type": "markdown",
   "metadata": {},
   "source": [
    "## Вывод"
   ]
  },
  {
   "cell_type": "markdown",
   "metadata": {},
   "source": [
    "Первое что бросается в глаза, среди целей часто встречаются связанные с недвижимостью. \n",
    "Их можно выделить в отдельную категорию: - \"недвижимость\", далее: \"авто\", \"образование\", \"свадьба\".  \n",
    "\n",
    "\n"
   ]
  },
  {
   "cell_type": "markdown",
   "metadata": {},
   "source": [
    "# Категоризация данных"
   ]
  },
  {
   "cell_type": "code",
   "execution_count": 35,
   "metadata": {},
   "outputs": [
    {
     "data": {
      "text/plain": [
       "array(['покупка жилья', 'приобретение автомобиля',\n",
       "       'дополнительное образование', 'сыграть свадьбу',\n",
       "       'операции с жильем', 'образование', 'на проведение свадьбы',\n",
       "       'покупка жилья для семьи', 'покупка недвижимости',\n",
       "       'покупка коммерческой недвижимости', 'покупка жилой недвижимости',\n",
       "       'строительство собственной недвижимости', 'недвижимость',\n",
       "       'строительство недвижимости', 'на покупку подержанного автомобиля',\n",
       "       'на покупку своего автомобиля',\n",
       "       'операции с коммерческой недвижимостью',\n",
       "       'строительство жилой недвижимости', 'жилье',\n",
       "       'операции со своей недвижимостью', 'автомобили',\n",
       "       'заняться образованием', 'сделка с подержанным автомобилем',\n",
       "       'получение образования', 'автомобиль', 'свадьба',\n",
       "       'получение дополнительного образования', 'покупка своего жилья',\n",
       "       'операции с недвижимостью', 'получение высшего образования',\n",
       "       'свой автомобиль', 'сделка с автомобилем',\n",
       "       'профильное образование', 'высшее образование',\n",
       "       'покупка жилья для сдачи', 'на покупку автомобиля', 'ремонт жилью',\n",
       "       'заняться высшим образованием'], dtype=object)"
      ]
     },
     "execution_count": 35,
     "metadata": {},
     "output_type": "execute_result"
    }
   ],
   "source": [
    "df['purpose'].unique() #взглянем на цели кредита еще раз"
   ]
  },
  {
   "cell_type": "markdown",
   "metadata": {},
   "source": [
    "Есть одно значение не связанное с приобретением недвижимости: - \"ремонт жилью\" - т.е. цель отличается от преобладающей в массе \"покупка+недвижимость\", но т.к. такое значение лишь одно, стоит проверить, как часто оно встречается среди всех строк и стоит ли его выделять в отдельную категорию, как \"ремонт\""
   ]
  },
  {
   "cell_type": "code",
   "execution_count": 36,
   "metadata": {},
   "outputs": [
    {
     "data": {
      "text/plain": [
       "607"
      ]
     },
     "execution_count": 36,
     "metadata": {},
     "output_type": "execute_result"
    }
   ],
   "source": [
    "df[df['purpose'] == 'ремонт жилью']['purpose'].count() #посчитаем количество значений категории\n"
   ]
  },
  {
   "cell_type": "markdown",
   "metadata": {},
   "source": [
    "Всего 607, значений совсем немного от общего количества, явно не требуется выделять в отдельную категорию. Таким образом мы узнали, что это не был отдельный банковский продукт, в духе \"кредит для ремонта жилья\" который мог быть крупной отдельной категорией. \n",
    "Можем спокойно переходить к следующим столбцам и дообработать оставшиеся данные перед исследованием."
   ]
  },
  {
   "cell_type": "code",
   "execution_count": 37,
   "metadata": {},
   "outputs": [
    {
     "data": {
      "text/plain": [
       " 0     14091\n",
       " 1      4808\n",
       " 2      2052\n",
       " 3       330\n",
       " 20       76\n",
       "-1        47\n",
       " 4        41\n",
       " 5         9\n",
       "Name: children, dtype: int64"
      ]
     },
     "execution_count": 37,
     "metadata": {},
     "output_type": "execute_result"
    }
   ],
   "source": [
    "df['children'].value_counts() #взглянем на показатели в графе дети"
   ]
  },
  {
   "cell_type": "markdown",
   "metadata": {},
   "source": [
    "47 клиентов с минус одним ребёнком. Тут скорее всего ошибка со знаком.\n",
    "И у 76 клиентов - по 20 детей. Это точно из областей фантастики, если бы их было 1-2 человека, можно было бы поинтересоваться возрастом, но здесь их слишком много, в современном мире это не распространено совершенно, да и отсутствие показателей свыше 5 детей говорит о многом. \n",
    "Будем считать, что это неведомо каким образом появившийся ноль к значению \"2\".  "
   ]
  },
  {
   "cell_type": "code",
   "execution_count": 38,
   "metadata": {},
   "outputs": [],
   "source": [
    "df['children'] = df['children'].abs()"
   ]
  },
  {
   "cell_type": "code",
   "execution_count": 39,
   "metadata": {},
   "outputs": [],
   "source": [
    "df['children'] = df['children'].replace(20, 2) #20 на 2"
   ]
  },
  {
   "cell_type": "code",
   "execution_count": 40,
   "metadata": {},
   "outputs": [
    {
     "data": {
      "text/plain": [
       "0    14091\n",
       "1     4855\n",
       "2     2128\n",
       "3      330\n",
       "4       41\n",
       "5        9\n",
       "Name: children, dtype: int64"
      ]
     },
     "execution_count": 40,
     "metadata": {},
     "output_type": "execute_result"
    }
   ],
   "source": [
    "df['children'].value_counts() #чекаем и идём дальше."
   ]
  },
  {
   "cell_type": "code",
   "execution_count": 41,
   "metadata": {},
   "outputs": [
    {
     "data": {
      "text/plain": [
       "35    616\n",
       "40    607\n",
       "41    605\n",
       "34    601\n",
       "38    597\n",
       "42    596\n",
       "33    581\n",
       "39    572\n",
       "31    559\n",
       "36    554\n",
       "44    545\n",
       "29    544\n",
       "30    537\n",
       "48    536\n",
       "37    536\n",
       "50    513\n",
       "43    512\n",
       "32    509\n",
       "49    508\n",
       "28    503\n",
       "45    496\n",
       "27    493\n",
       "52    484\n",
       "56    483\n",
       "47    477\n",
       "54    476\n",
       "46    472\n",
       "53    459\n",
       "57    456\n",
       "58    454\n",
       "51    446\n",
       "55    443\n",
       "59    443\n",
       "26    408\n",
       "60    374\n",
       "25    357\n",
       "61    354\n",
       "62    348\n",
       "63    269\n",
       "24    264\n",
       "64    260\n",
       "23    252\n",
       "65    193\n",
       "22    183\n",
       "66    182\n",
       "67    167\n",
       "21    111\n",
       "0     101\n",
       "68     99\n",
       "69     85\n",
       "70     65\n",
       "71     56\n",
       "20     51\n",
       "72     33\n",
       "19     14\n",
       "73      8\n",
       "74      6\n",
       "75      1\n",
       "Name: client_years, dtype: int64"
      ]
     },
     "execution_count": 41,
     "metadata": {},
     "output_type": "execute_result"
    }
   ],
   "source": [
    "df['client_years'].value_counts() #переходим к следующему столбцу"
   ]
  },
  {
   "cell_type": "markdown",
   "metadata": {},
   "source": [
    "В целом всё нормально, только смущает 101 значение с возрастом \"0\" (заменим на медианное). Почему такой вывод? Потому что все остальные значения выглядят нормально и скорее всего, здесь просто отсутствуют данные о возрасте. Замена значения \"0\" на медианное, вместо удаления данных строк, позволит включить данные строки в анализ, при этом т.к. вопросов напрямую связанных с возрастом в задаче не задано, то такие данные подойдут для ответа на поставленные вопросы. "
   ]
  },
  {
   "cell_type": "code",
   "execution_count": 42,
   "metadata": {},
   "outputs": [
    {
     "data": {
      "text/plain": [
       "42.0"
      ]
     },
     "execution_count": 42,
     "metadata": {},
     "output_type": "execute_result"
    }
   ],
   "source": [
    "df['client_years'].median() #узнаем медианное значение"
   ]
  },
  {
   "cell_type": "code",
   "execution_count": 43,
   "metadata": {},
   "outputs": [],
   "source": [
    "df['client_years'] = df['client_years'].replace(0, 43) #заменим 0 на медианное значение\n"
   ]
  },
  {
   "cell_type": "code",
   "execution_count": 44,
   "metadata": {},
   "outputs": [
    {
     "data": {
      "text/plain": [
       "35    616\n",
       "43    613\n",
       "40    607\n",
       "41    605\n",
       "34    601\n",
       "38    597\n",
       "42    596\n",
       "33    581\n",
       "39    572\n",
       "31    559\n",
       "36    554\n",
       "44    545\n",
       "29    544\n",
       "30    537\n",
       "37    536\n",
       "48    536\n",
       "50    513\n",
       "32    509\n",
       "49    508\n",
       "28    503\n",
       "45    496\n",
       "27    493\n",
       "52    484\n",
       "56    483\n",
       "47    477\n",
       "54    476\n",
       "46    472\n",
       "53    459\n",
       "57    456\n",
       "58    454\n",
       "51    446\n",
       "55    443\n",
       "59    443\n",
       "26    408\n",
       "60    374\n",
       "25    357\n",
       "61    354\n",
       "62    348\n",
       "63    269\n",
       "24    264\n",
       "64    260\n",
       "23    252\n",
       "65    193\n",
       "22    183\n",
       "66    182\n",
       "67    167\n",
       "21    111\n",
       "68     99\n",
       "69     85\n",
       "70     65\n",
       "71     56\n",
       "20     51\n",
       "72     33\n",
       "19     14\n",
       "73      8\n",
       "74      6\n",
       "75      1\n",
       "Name: client_years, dtype: int64"
      ]
     },
     "execution_count": 44,
     "metadata": {},
     "output_type": "execute_result"
    }
   ],
   "source": [
    "df['client_years'].value_counts() #смотрим что получилось, 43ёхлетних стало на сотку больше), медиана не поменялась, ок идём дальше"
   ]
  },
  {
   "cell_type": "markdown",
   "metadata": {},
   "source": [
    "Взглянем на столбец с образованием:"
   ]
  },
  {
   "cell_type": "code",
   "execution_count": 45,
   "metadata": {},
   "outputs": [
    {
     "data": {
      "text/plain": [
       "среднее                15172\n",
       "высшее                  5250\n",
       "неоконченное высшее      744\n",
       "начальное                282\n",
       "ученая степень             6\n",
       "Name: education, dtype: int64"
      ]
     },
     "execution_count": 45,
     "metadata": {},
     "output_type": "execute_result"
    }
   ],
   "source": [
    "df['education'].value_counts() "
   ]
  },
  {
   "cell_type": "markdown",
   "metadata": {},
   "source": [
    "Всё как в жизни. Людей с учёной степенью крайне мало от всего числа людей."
   ]
  },
  {
   "cell_type": "code",
   "execution_count": 46,
   "metadata": {},
   "outputs": [
    {
     "data": {
      "text/plain": [
       "education\n",
       "среднее    15172\n",
       "Name: education, dtype: int64"
      ]
     },
     "execution_count": 46,
     "metadata": {},
     "output_type": "execute_result"
    }
   ],
   "source": [
    "df[df['education_id'] == 1].groupby('education')['education'].count() \n",
    "#посмотрим чему соответствуют значения 1 и 0 в графе education_id\n"
   ]
  },
  {
   "cell_type": "code",
   "execution_count": 47,
   "metadata": {},
   "outputs": [
    {
     "data": {
      "text/plain": [
       "education\n",
       "высшее    5250\n",
       "Name: education, dtype: int64"
      ]
     },
     "execution_count": 47,
     "metadata": {},
     "output_type": "execute_result"
    }
   ],
   "source": [
    "df[df['education_id'] == 0].groupby('education')['education'].count()\n"
   ]
  },
  {
   "cell_type": "markdown",
   "metadata": {},
   "source": [
    "Значения в единицу - среднее образование, а нули - высшее. \n",
    "Остальные ребята не участвуют в данной категоризации. Для исследования это не важно, вопросов возвратности в зависимости от наличия высшего образования у клиентов не поставлено, идём дальше."
   ]
  },
  {
   "cell_type": "code",
   "execution_count": 48,
   "metadata": {},
   "outputs": [
    {
     "data": {
      "text/plain": [
       "женат / замужем          12339\n",
       "гражданский брак          4151\n",
       "не женат / не замужем     2810\n",
       "в разводе                 1195\n",
       "вдовец / вдова             959\n",
       "Name: family_status, dtype: int64"
      ]
     },
     "execution_count": 48,
     "metadata": {},
     "output_type": "execute_result"
    }
   ],
   "source": [
    "df['family_status'].value_counts() #здесь всё хорошо"
   ]
  },
  {
   "cell_type": "code",
   "execution_count": 49,
   "metadata": {},
   "outputs": [
    {
     "data": {
      "text/plain": [
       "0    12339\n",
       "1     4151\n",
       "4     2810\n",
       "3     1195\n",
       "2      959\n",
       "Name: family_status_id, dtype: int64"
      ]
     },
     "execution_count": 49,
     "metadata": {},
     "output_type": "execute_result"
    }
   ],
   "source": [
    "df['family_status_id'].value_counts() "
   ]
  },
  {
   "cell_type": "markdown",
   "metadata": {},
   "source": [
    "Здесь тоже полный порядок и по идентичным цифрам как и в столбце 'family_status' видно, что чему соответствует:  \n",
    "0 - в официальном браке,  \n",
    "1 - гражданский брак,  \n",
    "2 - не в браке,  \n",
    "3 - в разводе,  \n",
    "4 - овдовевшие."
   ]
  },
  {
   "cell_type": "code",
   "execution_count": 50,
   "metadata": {},
   "outputs": [
    {
     "data": {
      "text/plain": [
       "F      14174\n",
       "M       7279\n",
       "XNA        1\n",
       "Name: gender, dtype: int64"
      ]
     },
     "execution_count": 50,
     "metadata": {},
     "output_type": "execute_result"
    }
   ],
   "source": [
    "df['gender'].value_counts() "
   ]
  },
  {
   "cell_type": "markdown",
   "metadata": {},
   "source": [
    "Первое что бросается в глаза - женщин в 2 раза больше чем мужчин, и некий XNA - всего 1 значение."
   ]
  },
  {
   "cell_type": "code",
   "execution_count": 51,
   "metadata": {},
   "outputs": [
    {
     "data": {
      "text/plain": [
       "10684    XNA\n",
       "Name: gender, dtype: object"
      ]
     },
     "execution_count": 51,
     "metadata": {},
     "output_type": "execute_result"
    }
   ],
   "source": [
    "df[df['gender'] == 'XNA']['gender'] #номер строки 10684 - почти идеально в середине, возможно это что-то техническое."
   ]
  },
  {
   "cell_type": "code",
   "execution_count": 52,
   "metadata": {},
   "outputs": [],
   "source": [
    "df.drop([10684], inplace=True) #дропаем"
   ]
  },
  {
   "cell_type": "code",
   "execution_count": 53,
   "metadata": {},
   "outputs": [
    {
     "data": {
      "text/plain": [
       "F    14174\n",
       "M     7279\n",
       "Name: gender, dtype: int64"
      ]
     },
     "execution_count": 53,
     "metadata": {},
     "output_type": "execute_result"
    }
   ],
   "source": [
    "df['gender'].value_counts() #смотрим, ок. "
   ]
  },
  {
   "cell_type": "code",
   "execution_count": 54,
   "metadata": {},
   "outputs": [
    {
     "data": {
      "text/plain": [
       "сотрудник          11084\n",
       "компаньон           5077\n",
       "пенсионер           3829\n",
       "госслужащий         1457\n",
       "предприниматель        2\n",
       "безработный            2\n",
       "в декрете              1\n",
       "студент                1\n",
       "Name: client_category, dtype: int64"
      ]
     },
     "execution_count": 54,
     "metadata": {},
     "output_type": "execute_result"
    }
   ],
   "source": [
    "df['client_category'].value_counts() #всё ок"
   ]
  },
  {
   "cell_type": "code",
   "execution_count": 55,
   "metadata": {},
   "outputs": [
    {
     "data": {
      "text/plain": [
       "0    19712\n",
       "1     1741\n",
       "Name: loan_return_status, dtype: int64"
      ]
     },
     "execution_count": 55,
     "metadata": {},
     "output_type": "execute_result"
    }
   ],
   "source": [
    "df['loan_return_status'].value_counts() #здесь всё нормально, каких то неожиданных значений нет"
   ]
  },
  {
   "cell_type": "code",
   "execution_count": 56,
   "metadata": {},
   "outputs": [
    {
     "data": {
      "text/plain": [
       "2265604"
      ]
     },
     "execution_count": 56,
     "metadata": {},
     "output_type": "execute_result"
    }
   ],
   "source": [
    "df['income'].max() #посмотрим на разные значения доходов"
   ]
  },
  {
   "cell_type": "code",
   "execution_count": 57,
   "metadata": {},
   "outputs": [
    {
     "data": {
      "text/plain": [
       "0"
      ]
     },
     "execution_count": 57,
     "metadata": {},
     "output_type": "execute_result"
    }
   ],
   "source": [
    "df['income'].min() #нули мы ранее проставили людям без зарплаты / трудового стажа"
   ]
  },
  {
   "cell_type": "code",
   "execution_count": 58,
   "metadata": {},
   "outputs": [
    {
     "data": {
      "text/plain": [
       "151008.0352398266"
      ]
     },
     "execution_count": 58,
     "metadata": {},
     "output_type": "execute_result"
    }
   ],
   "source": [
    "df['income'].mean() #cреднее значение"
   ]
  },
  {
   "cell_type": "code",
   "execution_count": 59,
   "metadata": {},
   "outputs": [
    {
     "data": {
      "text/plain": [
       "135773.0"
      ]
     },
     "execution_count": 59,
     "metadata": {},
     "output_type": "execute_result"
    }
   ],
   "source": [
    "df['income'].median() #медиана"
   ]
  },
  {
   "cell_type": "markdown",
   "metadata": {},
   "source": [
    "Вроде всё нормально с цифрами, непонятна валюта, т.к. цифры значительно превосходят средние значения по РФ. Будет считать что это Казахстан :) (потому-что свадеб много) там любят празднества (\"тои\" - как они говорят). "
   ]
  },
  {
   "cell_type": "markdown",
   "metadata": {},
   "source": [
    "Выполним категоризацию клиентов по наличию детей."
   ]
  },
  {
   "cell_type": "code",
   "execution_count": 60,
   "metadata": {},
   "outputs": [
    {
     "data": {
      "text/plain": [
       "0    есть дети\n",
       "1    есть дети\n",
       "2    бездетные\n",
       "3    есть дети\n",
       "4    бездетные\n",
       "5    бездетные\n",
       "6    бездетные\n",
       "7    бездетные\n",
       "8    есть дети\n",
       "9    бездетные\n",
       "Name: clients_group, dtype: object"
      ]
     },
     "execution_count": 60,
     "metadata": {},
     "output_type": "execute_result"
    }
   ],
   "source": [
    "def clients_group(children):\n",
    "        \"\"\"\n",
    "        Возвращает группу по наличию детей children, используя правила:\n",
    "        - 'бездетные' при значении children == 0 \n",
    "        - 'есть дети' при значениии children больше 0\n",
    "        \"\"\"\n",
    "\n",
    "        if children == 0:\n",
    "                return 'бездетные'\n",
    "        if children > 0:\n",
    "                return 'есть дети'\n",
    "        \n",
    "df['clients_group'] = df['children'].apply(clients_group)\n",
    "df['clients_group'].head(10) #чекнем (работает)\n"
   ]
  },
  {
   "cell_type": "markdown",
   "metadata": {},
   "source": [
    "Категоризируем клиентов по уровню доходов."
   ]
  },
  {
   "cell_type": "code",
   "execution_count": 61,
   "metadata": {},
   "outputs": [
    {
     "data": {
      "text/plain": [
       "0.25     89088.0\n",
       "0.50    135773.0\n",
       "0.75    195799.0\n",
       "Name: income, dtype: float64"
      ]
     },
     "execution_count": 61,
     "metadata": {},
     "output_type": "execute_result"
    }
   ],
   "source": [
    "df['income'].quantile([0.25,0.5,0.75]) #для категоризации цифровых значений, таких как зарплаты, удобно будет использовать квантили "
   ]
  },
  {
   "cell_type": "code",
   "execution_count": 62,
   "metadata": {},
   "outputs": [
    {
     "data": {
      "text/plain": [
       "0    Сверхвысокий доход\n",
       "1         Средний доход\n",
       "2         Высокий доход\n",
       "3    Сверхвысокий доход\n",
       "4         Высокий доход\n",
       "5    Сверхвысокий доход\n",
       "6    Сверхвысокий доход\n",
       "7         Высокий доход\n",
       "8         Средний доход\n",
       "9         Высокий доход\n",
       "Name: income_quartiles, dtype: object"
      ]
     },
     "execution_count": 62,
     "metadata": {},
     "output_type": "execute_result"
    }
   ],
   "source": [
    "def income_quartiles(income): #придумаем имена квартилям\n",
    "        \"\"\"\n",
    "        Возвращает группу по значению дохода income, используя правила:\n",
    "        - 'Низкий доход' при значении income <= 89090.0 \n",
    "        - 'Средний доход при значении income <= 135789.0\n",
    "        - 'Высокий доход' при значении income < 195818.0\n",
    "        - 'Сверхвысокий доход' в остальных случаях\n",
    "        \"\"\"\n",
    "\n",
    "        if income <= 88090.0:\n",
    "                return 'Низкий доход'\n",
    "        if income <= 135789.00:\n",
    "                return 'Средний доход'\n",
    "        if income < 195818.0:\n",
    "                return 'Высокий доход'\n",
    "        return 'Сверхвысокий доход'\n",
    "        \n",
    "df['income_quartiles'] = df['income'].apply(income_quartiles)\n",
    "df['income_quartiles'].head(10) #чекнем (работает)\n"
   ]
  },
  {
   "cell_type": "markdown",
   "metadata": {},
   "source": [
    "## Вывод"
   ]
  },
  {
   "cell_type": "markdown",
   "metadata": {},
   "source": [
    "В некоторых столбцах требовались небольшие корректировки, каждое действие подробно описывал, как и причину произведённых изменений. \n",
    "Также была выполнена категоризация данных в столбцах имеющих значения для ответов на поставленные вопросы.\n",
    "Наши данные готовы к выполнению задач и с помощью них мы можем получить ответы на вопросы. "
   ]
  },
  {
   "cell_type": "markdown",
   "metadata": {},
   "source": [
    "# Ответы на вопросы\n",
    "\n",
    "-Есть ли зависимость между наличием детей и возвратом кредита в срок?  \n",
    "-Есть ли зависимость между семейным положением и возвратом кредита в срок?  \n",
    "-Есть ли зависимость между уровнем дохода и возвратом кредита в срок?  \n",
    "-Как разные цели кредита влияют на его возврат в срок?  \n",
    "<a id=\"id_3\"></a>"
   ]
  },
  {
   "cell_type": "markdown",
   "metadata": {},
   "source": [
    "## Есть ли зависимость между наличием детей и возвратом кредита в срок?\n"
   ]
  },
  {
   "cell_type": "markdown",
   "metadata": {},
   "source": [
    "Для ответа на вопрос посмотрим процент вернувших кредиты в каждом из столбцов, тогда можно будет сделать вывод, основываясь на полученных данных."
   ]
  },
  {
   "cell_type": "code",
   "execution_count": 63,
   "metadata": {},
   "outputs": [
    {
     "data": {
      "text/html": [
       "<div>\n",
       "<style scoped>\n",
       "    .dataframe tbody tr th:only-of-type {\n",
       "        vertical-align: middle;\n",
       "    }\n",
       "\n",
       "    .dataframe tbody tr th {\n",
       "        vertical-align: top;\n",
       "    }\n",
       "\n",
       "    .dataframe thead th {\n",
       "        text-align: right;\n",
       "    }\n",
       "</style>\n",
       "<table border=\"1\" class=\"dataframe\">\n",
       "  <thead>\n",
       "    <tr style=\"text-align: right;\">\n",
       "      <th>loan_return_status</th>\n",
       "      <th>0</th>\n",
       "      <th>1</th>\n",
       "      <th>ratio</th>\n",
       "    </tr>\n",
       "    <tr>\n",
       "      <th>clients_group</th>\n",
       "      <th></th>\n",
       "      <th></th>\n",
       "      <th></th>\n",
       "    </tr>\n",
       "  </thead>\n",
       "  <tbody>\n",
       "    <tr>\n",
       "      <td>есть дети</td>\n",
       "      <td>6685</td>\n",
       "      <td>678</td>\n",
       "      <td>10.142109</td>\n",
       "    </tr>\n",
       "    <tr>\n",
       "      <td>бездетные</td>\n",
       "      <td>13027</td>\n",
       "      <td>1063</td>\n",
       "      <td>8.159975</td>\n",
       "    </tr>\n",
       "  </tbody>\n",
       "</table>\n",
       "</div>"
      ],
      "text/plain": [
       "loan_return_status      0     1      ratio\n",
       "clients_group                             \n",
       "есть дети            6685   678  10.142109\n",
       "бездетные           13027  1063   8.159975"
      ]
     },
     "execution_count": 63,
     "metadata": {},
     "output_type": "execute_result"
    }
   ],
   "source": [
    "children_pivot = df.pivot_table(index=['clients_group'], columns=['loan_return_status'], values='client_years', aggfunc='count')\n",
    "children_pivot['ratio'] = children_pivot[1] / children_pivot[0] * 100\n",
    "children_pivot.sort_values(by = 'ratio', ascending = False)\n",
    "#сделаем сводную таблицу и посмотрим соотношение\n"
   ]
  },
  {
   "cell_type": "markdown",
   "metadata": {},
   "source": [
    "### Вывод"
   ]
  },
  {
   "cell_type": "markdown",
   "metadata": {},
   "source": [
    "Четко видно что заёмщики имеющие детей более платёжеспособные. "
   ]
  },
  {
   "cell_type": "markdown",
   "metadata": {},
   "source": [
    "## Есть ли зависимость между семейным положением и возвратом кредита в срок?"
   ]
  },
  {
   "cell_type": "code",
   "execution_count": 64,
   "metadata": {},
   "outputs": [
    {
     "data": {
      "text/html": [
       "<div>\n",
       "<style scoped>\n",
       "    .dataframe tbody tr th:only-of-type {\n",
       "        vertical-align: middle;\n",
       "    }\n",
       "\n",
       "    .dataframe tbody tr th {\n",
       "        vertical-align: top;\n",
       "    }\n",
       "\n",
       "    .dataframe thead th {\n",
       "        text-align: right;\n",
       "    }\n",
       "</style>\n",
       "<table border=\"1\" class=\"dataframe\">\n",
       "  <thead>\n",
       "    <tr style=\"text-align: right;\">\n",
       "      <th>loan_return_status</th>\n",
       "      <th>0</th>\n",
       "      <th>1</th>\n",
       "      <th>ratio</th>\n",
       "    </tr>\n",
       "    <tr>\n",
       "      <th>family_status</th>\n",
       "      <th></th>\n",
       "      <th></th>\n",
       "      <th></th>\n",
       "    </tr>\n",
       "  </thead>\n",
       "  <tbody>\n",
       "    <tr>\n",
       "      <td>не женат / не замужем</td>\n",
       "      <td>2536</td>\n",
       "      <td>274</td>\n",
       "      <td>10.804416</td>\n",
       "    </tr>\n",
       "    <tr>\n",
       "      <td>гражданский брак</td>\n",
       "      <td>3762</td>\n",
       "      <td>388</td>\n",
       "      <td>10.313663</td>\n",
       "    </tr>\n",
       "    <tr>\n",
       "      <td>женат / замужем</td>\n",
       "      <td>11408</td>\n",
       "      <td>931</td>\n",
       "      <td>8.160940</td>\n",
       "    </tr>\n",
       "    <tr>\n",
       "      <td>в разводе</td>\n",
       "      <td>1110</td>\n",
       "      <td>85</td>\n",
       "      <td>7.657658</td>\n",
       "    </tr>\n",
       "    <tr>\n",
       "      <td>вдовец / вдова</td>\n",
       "      <td>896</td>\n",
       "      <td>63</td>\n",
       "      <td>7.031250</td>\n",
       "    </tr>\n",
       "  </tbody>\n",
       "</table>\n",
       "</div>"
      ],
      "text/plain": [
       "loan_return_status         0    1      ratio\n",
       "family_status                               \n",
       "не женат / не замужем   2536  274  10.804416\n",
       "гражданский брак        3762  388  10.313663\n",
       "женат / замужем        11408  931   8.160940\n",
       "в разводе               1110   85   7.657658\n",
       "вдовец / вдова           896   63   7.031250"
      ]
     },
     "execution_count": 64,
     "metadata": {},
     "output_type": "execute_result"
    }
   ],
   "source": [
    "family_returns = df.pivot_table(index=['family_status'], columns = ['loan_return_status'], values='client_years', aggfunc='count')\n",
    "family_returns['ratio'] = family_returns[1] / family_returns [0] * 100\n",
    "family_returns.sort_values(by = 'ratio', ascending = False) #используем аналогичную сводную таблицу как и в предыдущем решении \n",
    "\n"
   ]
  },
  {
   "cell_type": "markdown",
   "metadata": {},
   "source": [
    "### Вывод"
   ]
  },
  {
   "cell_type": "markdown",
   "metadata": {},
   "source": [
    "Есть зависимость, хоть и не прямая. \n",
    "\n",
    "Например необязательно состоящие в браке люди - платежеспособнее, чем не состоящие в браке, согласно полученным данным мы видим, что соотношение возвратов имеет близкие значения среди не женатых и среди тех, кто находится в гражданском браке. \n",
    "\n",
    "В тоже время женатые люди (в официальном браке) - имеют ниже соотношение, как и те, кто находятся в разводе или овдовели. У них еще более низкое соотношение.\n",
    "\n",
    "В итоге топ по платежеспособности выглядит так:\n",
    "1. не женат / не замужем - 10.80\n",
    "2. гражданский брак - 10.28\n",
    "3. женат / замужем - 8.15\n",
    "4. в разводе - 7.65\n",
    "5. вдовец / вдова - 7.03\n",
    "\n",
    "Эммм, получается стоит быть очень внимательными при выдаче займов овдовевшим клиентам и тщательно взвешивать все риски."
   ]
  },
  {
   "cell_type": "markdown",
   "metadata": {},
   "source": [
    "## Есть ли зависимость между уровнем дохода и возвратом кредита в срок?"
   ]
  },
  {
   "cell_type": "code",
   "execution_count": 65,
   "metadata": {},
   "outputs": [
    {
     "data": {
      "text/html": [
       "<div>\n",
       "<style scoped>\n",
       "    .dataframe tbody tr th:only-of-type {\n",
       "        vertical-align: middle;\n",
       "    }\n",
       "\n",
       "    .dataframe tbody tr th {\n",
       "        vertical-align: top;\n",
       "    }\n",
       "\n",
       "    .dataframe thead th {\n",
       "        text-align: right;\n",
       "    }\n",
       "</style>\n",
       "<table border=\"1\" class=\"dataframe\">\n",
       "  <thead>\n",
       "    <tr style=\"text-align: right;\">\n",
       "      <th>loan_return_status</th>\n",
       "      <th>0</th>\n",
       "      <th>1</th>\n",
       "      <th>ratio</th>\n",
       "    </tr>\n",
       "    <tr>\n",
       "      <th>income_quartiles</th>\n",
       "      <th></th>\n",
       "      <th></th>\n",
       "      <th></th>\n",
       "    </tr>\n",
       "  </thead>\n",
       "  <tbody>\n",
       "    <tr>\n",
       "      <td>Высокий доход</td>\n",
       "      <td>4881</td>\n",
       "      <td>481</td>\n",
       "      <td>9.854538</td>\n",
       "    </tr>\n",
       "    <tr>\n",
       "      <td>Средний доход</td>\n",
       "      <td>5006</td>\n",
       "      <td>465</td>\n",
       "      <td>9.288853</td>\n",
       "    </tr>\n",
       "    <tr>\n",
       "      <td>Низкий доход</td>\n",
       "      <td>4845</td>\n",
       "      <td>412</td>\n",
       "      <td>8.503612</td>\n",
       "    </tr>\n",
       "    <tr>\n",
       "      <td>Сверхвысокий доход</td>\n",
       "      <td>4980</td>\n",
       "      <td>383</td>\n",
       "      <td>7.690763</td>\n",
       "    </tr>\n",
       "  </tbody>\n",
       "</table>\n",
       "</div>"
      ],
      "text/plain": [
       "loan_return_status     0    1     ratio\n",
       "income_quartiles                       \n",
       "Высокий доход       4881  481  9.854538\n",
       "Средний доход       5006  465  9.288853\n",
       "Низкий доход        4845  412  8.503612\n",
       "Сверхвысокий доход  4980  383  7.690763"
      ]
     },
     "execution_count": 65,
     "metadata": {},
     "output_type": "execute_result"
    }
   ],
   "source": [
    "income_returns = df.pivot_table(index=['income_quartiles'], columns = ['loan_return_status'], values='client_years', aggfunc='count')\n",
    "income_returns['ratio'] = income_returns[1] / income_returns [0] * 100\n",
    "income_returns.sort_values(by = 'ratio', ascending = False) #используем аналогичную сводную таблицу как и в предыдущем решении "
   ]
  },
  {
   "cell_type": "markdown",
   "metadata": {},
   "source": [
    "### Вывод"
   ]
  },
  {
   "cell_type": "markdown",
   "metadata": {},
   "source": [
    "Со всеми значениями закономерная ситуация, чем выше доход - тем выше соотношение платежеспособности и возвратности.\n",
    "Однако не всё так однозначно со сверхвысокими значениями - возможно, это связано с тем, что неплатежеспособные люди, остро желающие заполучить кредит, будучи не очень платежеспособными - каким-то образом завышают свои доходы, чтобы получить кредит, который в дальнейшем им сложно погасить и мы видим такую печальную статистику возвратов в категории людей с очень высокими доходами.\n",
    "\n",
    "Ответ на вопрос: Есть ли зависимость между уровнем дохода и возвратом кредита в срок? - Однозначно - да, есть. "
   ]
  },
  {
   "cell_type": "markdown",
   "metadata": {},
   "source": [
    "## Как разные цели кредита влияют на его возврат в срок?"
   ]
  },
  {
   "cell_type": "code",
   "execution_count": 66,
   "metadata": {},
   "outputs": [
    {
     "data": {
      "text/plain": [
       "[автомобиль, \\n]                                          972\n",
       "[свадьба, \\n]                                             791\n",
       "[на,  , проведение,  , свадьба, \\n]                       768\n",
       "[сыграть,  , свадьба, \\n]                                 765\n",
       "[операция,  , с,  , недвижимость, \\n]                     675\n",
       "[покупка,  , коммерческий,  , недвижимость, \\n]           661\n",
       "[операция,  , с,  , жилье, \\n]                            652\n",
       "[покупка,  , жилье,  , для,  , сдача, \\n]                 651\n",
       "[операция,  , с,  , коммерческий,  , недвижимость, \\n]    650\n",
       "[покупка,  , жилье, \\n]                                   646\n",
       "[жилье, \\n]                                               646\n",
       "[покупка,  , жилье,  , для,  , семья, \\n]                 638\n",
       "[строительство,  , собственный,  , недвижимость, \\n]      635\n",
       "[недвижимость, \\n]                                        633\n",
       "[операция,  , со,  , свой,  , недвижимость, \\n]           627\n",
       "[строительство,  , жилой,  , недвижимость, \\n]            624\n",
       "[покупка,  , недвижимость, \\n]                            620\n",
       "[покупка,  , свой,  , жилье, \\n]                          620\n",
       "[строительство,  , недвижимость, \\n]                      619\n",
       "[ремонт,  , жилье, \\n]                                    607\n",
       "[покупка,  , жилой,  , недвижимость, \\n]                  606\n",
       "[на,  , покупка,  , свой,  , автомобиль, \\n]              505\n",
       "[заниматься,  , высокий,  , образование, \\n]              496\n",
       "[сделка,  , с,  , подержанный,  , автомобиль, \\n]         486\n",
       "[свой,  , автомобиль, \\n]                                 478\n",
       "[на,  , покупка,  , подержать,  , автомобиль, \\n]         478\n",
       "[на,  , покупка,  , автомобиль, \\n]                       471\n",
       "[приобретение,  , автомобиль, \\n]                         461\n",
       "[дополнительный,  , образование, \\n]                      460\n",
       "[сделка,  , с,  , автомобиль, \\n]                         455\n",
       "[высокий,  , образование, \\n]                             452\n",
       "[образование, \\n]                                         447\n",
       "[получение,  , дополнительный,  , образование, \\n]        446\n",
       "[получение,  , образование, \\n]                           442\n",
       "[профильный,  , образование, \\n]                          436\n",
       "[получение,  , высокий,  , образование, \\n]               426\n",
       "[заниматься,  , образование, \\n]                          408\n",
       "Name: main_purpose, dtype: int64"
      ]
     },
     "execution_count": 66,
     "metadata": {},
     "output_type": "execute_result"
    }
   ],
   "source": [
    "df['main_purpose'].value_counts() #взглянем на наши категории после лемматизации "
   ]
  },
  {
   "cell_type": "code",
   "execution_count": 67,
   "metadata": {},
   "outputs": [
    {
     "data": {
      "text/plain": [
       "Недвижимость    10810\n",
       "Автомобиль       4306\n",
       "Образование      4013\n",
       "Свадьба          2324\n",
       "Name: loan_type, dtype: int64"
      ]
     },
     "execution_count": 67,
     "metadata": {},
     "output_type": "execute_result"
    }
   ],
   "source": [
    "#сгруппируем данные\n",
    "def loan_type(main_purpose): #\n",
    "        \"\"\"\n",
    "        Возвращает группу по типу назначения кредита main_purpose, используя правила:\n",
    "        - 'Автомобиль' при наличии в строке сочетания букв 'Авто' \n",
    "        - 'Образование' при наличии в строке сочетания букв 'Образование'\n",
    "        - 'Свадьба' при наличии в строке сочетания букв 'Свадьба'\n",
    "        - 'Недвижимость' при наличии в строке сочетания букв 'недвижимость' или 'жил'\n",
    "        \"\"\"\n",
    "\n",
    "        if 'автомобиль' in main_purpose:\n",
    "                return 'Автомобиль'\n",
    "        if 'образование' in main_purpose:\n",
    "                return 'Образование'\n",
    "        if 'свадьба' in main_purpose:\n",
    "                return 'Свадьба'\n",
    "        if 'недвижимость' or 'жил' in main_purpose:\n",
    "                return 'Недвижимость'\n",
    "        \n",
    "            \n",
    "df['loan_type'] = df['main_purpose'].apply(loan_type)\n",
    "df['loan_type'].value_counts()\n",
    "\n"
   ]
  },
  {
   "cell_type": "code",
   "execution_count": 68,
   "metadata": {},
   "outputs": [
    {
     "data": {
      "text/html": [
       "<div>\n",
       "<style scoped>\n",
       "    .dataframe tbody tr th:only-of-type {\n",
       "        vertical-align: middle;\n",
       "    }\n",
       "\n",
       "    .dataframe tbody tr th {\n",
       "        vertical-align: top;\n",
       "    }\n",
       "\n",
       "    .dataframe thead th {\n",
       "        text-align: right;\n",
       "    }\n",
       "</style>\n",
       "<table border=\"1\" class=\"dataframe\">\n",
       "  <thead>\n",
       "    <tr style=\"text-align: right;\">\n",
       "      <th>loan_return_status</th>\n",
       "      <th>0</th>\n",
       "      <th>1</th>\n",
       "      <th>ratio</th>\n",
       "    </tr>\n",
       "    <tr>\n",
       "      <th>loan_type</th>\n",
       "      <th></th>\n",
       "      <th></th>\n",
       "      <th></th>\n",
       "    </tr>\n",
       "  </thead>\n",
       "  <tbody>\n",
       "    <tr>\n",
       "      <td>Автомобиль</td>\n",
       "      <td>3903</td>\n",
       "      <td>403</td>\n",
       "      <td>10.325391</td>\n",
       "    </tr>\n",
       "    <tr>\n",
       "      <td>Образование</td>\n",
       "      <td>3643</td>\n",
       "      <td>370</td>\n",
       "      <td>10.156464</td>\n",
       "    </tr>\n",
       "    <tr>\n",
       "      <td>Свадьба</td>\n",
       "      <td>2138</td>\n",
       "      <td>186</td>\n",
       "      <td>8.699719</td>\n",
       "    </tr>\n",
       "    <tr>\n",
       "      <td>Недвижимость</td>\n",
       "      <td>10028</td>\n",
       "      <td>782</td>\n",
       "      <td>7.798165</td>\n",
       "    </tr>\n",
       "  </tbody>\n",
       "</table>\n",
       "</div>"
      ],
      "text/plain": [
       "loan_return_status      0    1      ratio\n",
       "loan_type                                \n",
       "Автомобиль           3903  403  10.325391\n",
       "Образование          3643  370  10.156464\n",
       "Свадьба              2138  186   8.699719\n",
       "Недвижимость        10028  782   7.798165"
      ]
     },
     "execution_count": 68,
     "metadata": {},
     "output_type": "execute_result"
    }
   ],
   "source": [
    "loan_type_returns = df.pivot_table(index=['loan_type'], columns = ['loan_return_status'], values='client_years', aggfunc='count')\n",
    "loan_type_returns['ratio'] = loan_type_returns[1] / loan_type_returns [0] * 100\n",
    "loan_type_returns.sort_values(by = 'ratio', ascending = False) #используем аналогичную сводную таблицу как и в предыдущем решении "
   ]
  },
  {
   "cell_type": "markdown",
   "metadata": {},
   "source": [
    "### Вывод"
   ]
  },
  {
   "cell_type": "markdown",
   "metadata": {},
   "source": [
    "Как разные цели кредита влияют на его возврат в срок?\n",
    "\n",
    "Итак, что мы видим. Цели кредита на его возвратность влияют следующим образом: - займы взятые на обучение и покупку авто имеют более высокое соотношение возвратов, чем кредиты взятые на такие цели как проведение свадьбы или операции с недвижимостью.\n",
    "\n",
    "С чем это может быть связано? -Возможно высокий процент займов в целях Автомобиль и Образование связаны с будущим заработком т.е. люди приобретают авто, для работы в Яндекс.Такси например, или берут кредит на обучение, чтобы освоить новую профессию - оба этих займа ведут к улучшению благосостояния заёмщика, что увеличивает соотношение возврата заёмных средств в срок.\n",
    "\n",
    "В то время как кредит на свадьбу - ничего кроме расходов в себе не несёт и как правило, после свадьбы финансовая нагрузка на заёмщика возрастает (условно, гипотеза, не факт но например - до свадьбы клиент жил у родителей, и многие позиции по финансам закрывали его родители, после свадьбы - эти обязанности уже в новой ячейке общества легли на заёмщика, неспособность точно предвидеть на сколько вырастет нагрузка после образования семьи, приводит к неправильной оценке собственной платежеспособности и соответствующему падению уровня возвратности в данной категории заёмщиков).\n",
    "\n",
    "С чем связан невысокий уровень возвратности в операциях с жильём сложно сказать по данной выборке, возможно для этого нужен анализ иного характера.\n",
    "\n",
    "\n",
    " "
   ]
  },
  {
   "cell_type": "markdown",
   "metadata": {},
   "source": [
    "# Общий вывод\n",
    "<a id=\"id_4\"></a>"
   ]
  },
  {
   "cell_type": "markdown",
   "metadata": {},
   "source": [
    "Полученные данные были избавлены от пропущенных и дублирующихся значений, категоризированы и подготовлены для исследования.\n",
    "В ходе работы подробно были описаны методы применённые в исследовании, логика проделанных шагов. \n",
    "\n",
    "В конце каждого этапа исследования был сделан вывод.\n",
    "\n",
    "На все поставленные вопросы были даны ответы. \n",
    "\n",
    "Также были сделаны рекомендации касательно того, как избежать появления пустых значений в будущем. \n"
   ]
  },
  {
   "cell_type": "markdown",
   "metadata": {},
   "source": [
    "# Чек-лист готовности проекта\n",
    "\n",
    "Поставьте 'x' в выполненных пунктах. Далее нажмите Shift+Enter."
   ]
  },
  {
   "cell_type": "markdown",
   "metadata": {},
   "source": [
    "- [x]  открыт файл;\n",
    "- [x]  файл изучен;\n",
    "- [x]  определены пропущенные значения;\n",
    "- [x]  заполнены пропущенные значения;\n",
    "- [x]  есть пояснение, какие пропущенные значения обнаружены;\n",
    "- [x]  описаны возможные причины появления пропусков в данных;\n",
    "- [x]  объяснено, по какому принципу заполнены пропуски;\n",
    "- [x]  заменен вещественный тип данных на целочисленный;\n",
    "- [x]  есть пояснение, какой метод используется для изменения типа данных и почему;\n",
    "- [x]  удалены дубликаты;\n",
    "- [x]  есть пояснение, какой метод используется для поиска и удаления дубликатов;\n",
    "- [x]  описаны возможные причины появления дубликатов в данных;\n",
    "- [x]  выделены леммы в значениях столбца с целями получения кредита;\n",
    "- [x]  описан процесс лемматизации;\n",
    "- [x]  данные категоризированы;\n",
    "- [x]  есть объяснение принципа категоризации данных;\n",
    "- [x]  есть ответ на вопрос: \"Есть ли зависимость между наличием детей и возвратом кредита в срок?\";\n",
    "- [x]  есть ответ на вопрос: \"Есть ли зависимость между семейным положением и возвратом кредита в срок?\";\n",
    "- [x]  есть ответ на вопрос: \"Есть ли зависимость между уровнем дохода и возвратом кредита в срок?\";\n",
    "- [x]  есть ответ на вопрос: \"Как разные цели кредита влияют на его возврат в срок?\";\n",
    "- [x]  в каждом этапе есть выводы;\n",
    "- [x]  есть общий вывод."
   ]
  }
 ],
 "metadata": {
  "ExecuteTimeLog": [
   {
    "duration": 329,
    "start_time": "2021-08-22T08:53:00.423Z"
   },
   {
    "duration": 805,
    "start_time": "2021-08-22T08:53:23.286Z"
   },
   {
    "duration": 19,
    "start_time": "2021-08-22T08:53:27.303Z"
   },
   {
    "duration": 48,
    "start_time": "2021-08-22T08:53:39.042Z"
   },
   {
    "duration": 1023,
    "start_time": "2021-08-22T09:02:38.533Z"
   },
   {
    "duration": 18,
    "start_time": "2021-08-22T09:02:39.558Z"
   },
   {
    "duration": 19,
    "start_time": "2021-08-22T09:02:39.579Z"
   },
   {
    "duration": 77,
    "start_time": "2021-08-22T09:02:39.601Z"
   },
   {
    "duration": 5,
    "start_time": "2021-08-22T09:02:39.681Z"
   },
   {
    "duration": 10,
    "start_time": "2021-08-22T09:02:39.689Z"
   },
   {
    "duration": 7,
    "start_time": "2021-08-22T09:02:39.702Z"
   },
   {
    "duration": 56,
    "start_time": "2021-08-22T09:02:39.713Z"
   },
   {
    "duration": 6,
    "start_time": "2021-08-22T09:02:39.773Z"
   },
   {
    "duration": 6,
    "start_time": "2021-08-22T09:02:39.782Z"
   },
   {
    "duration": 17,
    "start_time": "2021-08-22T09:02:39.791Z"
   },
   {
    "duration": 50,
    "start_time": "2021-08-22T09:02:39.811Z"
   },
   {
    "duration": 5,
    "start_time": "2021-08-22T09:02:39.864Z"
   },
   {
    "duration": 8,
    "start_time": "2021-08-22T09:02:39.872Z"
   },
   {
    "duration": 15,
    "start_time": "2021-08-22T09:02:39.882Z"
   },
   {
    "duration": 26,
    "start_time": "2021-08-22T09:02:39.900Z"
   },
   {
    "duration": 51,
    "start_time": "2021-08-22T09:02:39.929Z"
   },
   {
    "duration": 23,
    "start_time": "2021-08-22T09:02:39.982Z"
   },
   {
    "duration": 16,
    "start_time": "2021-08-22T09:02:40.007Z"
   },
   {
    "duration": 51,
    "start_time": "2021-08-22T09:02:40.026Z"
   },
   {
    "duration": 33,
    "start_time": "2021-08-22T09:02:40.080Z"
   },
   {
    "duration": 23,
    "start_time": "2021-08-22T09:02:40.116Z"
   },
   {
    "duration": 32,
    "start_time": "2021-08-22T09:02:40.146Z"
   },
   {
    "duration": 8,
    "start_time": "2021-08-22T09:02:40.183Z"
   },
   {
    "duration": 8,
    "start_time": "2021-08-22T09:02:40.195Z"
   },
   {
    "duration": 25,
    "start_time": "2021-08-22T09:02:40.206Z"
   },
   {
    "duration": 28,
    "start_time": "2021-08-22T09:02:40.234Z"
   },
   {
    "duration": 11,
    "start_time": "2021-08-22T09:02:40.265Z"
   },
   {
    "duration": 22,
    "start_time": "2021-08-22T09:02:40.278Z"
   },
   {
    "duration": 5,
    "start_time": "2021-08-22T09:02:40.302Z"
   },
   {
    "duration": 23,
    "start_time": "2021-08-22T09:02:40.309Z"
   },
   {
    "duration": 13,
    "start_time": "2021-08-22T09:02:40.334Z"
   },
   {
    "duration": 6,
    "start_time": "2021-08-22T09:02:40.362Z"
   },
   {
    "duration": 9,
    "start_time": "2021-08-22T09:02:40.371Z"
   },
   {
    "duration": 35,
    "start_time": "2021-08-22T09:02:40.382Z"
   },
   {
    "duration": 61,
    "start_time": "2021-08-22T09:02:40.419Z"
   },
   {
    "duration": 25,
    "start_time": "2021-08-22T09:02:40.483Z"
   },
   {
    "duration": 9,
    "start_time": "2021-08-22T09:02:40.510Z"
   },
   {
    "duration": 5220,
    "start_time": "2021-08-22T09:02:40.522Z"
   },
   {
    "duration": 24,
    "start_time": "2021-08-22T09:02:45.745Z"
   },
   {
    "duration": 21,
    "start_time": "2021-08-22T09:02:45.772Z"
   },
   {
    "duration": 11,
    "start_time": "2021-08-22T09:02:45.796Z"
   },
   {
    "duration": 55,
    "start_time": "2021-08-22T09:02:45.810Z"
   },
   {
    "duration": 7,
    "start_time": "2021-08-22T09:02:45.868Z"
   },
   {
    "duration": 16,
    "start_time": "2021-08-22T09:02:45.877Z"
   },
   {
    "duration": 8,
    "start_time": "2021-08-22T09:02:45.895Z"
   },
   {
    "duration": 6,
    "start_time": "2021-08-22T09:02:45.905Z"
   },
   {
    "duration": 50,
    "start_time": "2021-08-22T09:02:45.914Z"
   },
   {
    "duration": 11,
    "start_time": "2021-08-22T09:02:45.967Z"
   },
   {
    "duration": 16,
    "start_time": "2021-08-22T09:02:45.982Z"
   },
   {
    "duration": 22,
    "start_time": "2021-08-22T09:02:46.001Z"
   },
   {
    "duration": 49,
    "start_time": "2021-08-22T09:02:46.026Z"
   },
   {
    "duration": 18,
    "start_time": "2021-08-22T09:02:46.078Z"
   },
   {
    "duration": 11,
    "start_time": "2021-08-22T09:02:46.099Z"
   },
   {
    "duration": 58,
    "start_time": "2021-08-22T09:02:46.114Z"
   },
   {
    "duration": 11,
    "start_time": "2021-08-22T09:02:46.175Z"
   },
   {
    "duration": 13,
    "start_time": "2021-08-22T09:02:46.189Z"
   },
   {
    "duration": 11,
    "start_time": "2021-08-22T09:02:46.204Z"
   },
   {
    "duration": 56,
    "start_time": "2021-08-22T09:02:46.218Z"
   },
   {
    "duration": 10,
    "start_time": "2021-08-22T09:02:46.278Z"
   },
   {
    "duration": 7,
    "start_time": "2021-08-22T09:02:46.291Z"
   },
   {
    "duration": 6,
    "start_time": "2021-08-22T09:02:46.301Z"
   },
   {
    "duration": 58,
    "start_time": "2021-08-22T09:02:46.310Z"
   },
   {
    "duration": 9,
    "start_time": "2021-08-22T09:02:46.371Z"
   },
   {
    "duration": 18,
    "start_time": "2021-08-22T09:02:46.383Z"
   },
   {
    "duration": 9,
    "start_time": "2021-08-22T09:02:46.404Z"
   },
   {
    "duration": 18,
    "start_time": "2021-08-22T09:02:46.463Z"
   },
   {
    "duration": 41,
    "start_time": "2021-08-22T09:02:46.488Z"
   },
   {
    "duration": 59,
    "start_time": "2021-08-22T09:02:46.532Z"
   },
   {
    "duration": 30,
    "start_time": "2021-08-22T09:02:46.594Z"
   },
   {
    "duration": 56,
    "start_time": "2021-08-22T09:02:46.627Z"
   },
   {
    "duration": 44,
    "start_time": "2021-08-22T09:02:46.685Z"
   },
   {
    "duration": 57,
    "start_time": "2021-08-22T09:02:46.732Z"
   },
   {
    "duration": 6849,
    "start_time": "2021-08-22T09:06:11.965Z"
   },
   {
    "duration": 835,
    "start_time": "2021-08-22T09:06:24.696Z"
   },
   {
    "duration": 16,
    "start_time": "2021-08-22T09:06:25.534Z"
   },
   {
    "duration": 14,
    "start_time": "2021-08-22T09:06:25.563Z"
   },
   {
    "duration": 46,
    "start_time": "2021-08-22T09:06:25.580Z"
   },
   {
    "duration": 6,
    "start_time": "2021-08-22T09:06:25.660Z"
   },
   {
    "duration": 95,
    "start_time": "2021-08-22T09:06:25.669Z"
   },
   {
    "duration": -307,
    "start_time": "2021-08-22T09:06:26.076Z"
   },
   {
    "duration": -310,
    "start_time": "2021-08-22T09:06:26.081Z"
   },
   {
    "duration": -315,
    "start_time": "2021-08-22T09:06:26.087Z"
   },
   {
    "duration": -319,
    "start_time": "2021-08-22T09:06:26.092Z"
   },
   {
    "duration": -323,
    "start_time": "2021-08-22T09:06:26.098Z"
   },
   {
    "duration": -326,
    "start_time": "2021-08-22T09:06:26.102Z"
   },
   {
    "duration": -330,
    "start_time": "2021-08-22T09:06:26.107Z"
   },
   {
    "duration": -333,
    "start_time": "2021-08-22T09:06:26.112Z"
   },
   {
    "duration": -337,
    "start_time": "2021-08-22T09:06:26.117Z"
   },
   {
    "duration": -340,
    "start_time": "2021-08-22T09:06:26.121Z"
   },
   {
    "duration": -357,
    "start_time": "2021-08-22T09:06:26.139Z"
   },
   {
    "duration": -361,
    "start_time": "2021-08-22T09:06:26.145Z"
   },
   {
    "duration": -365,
    "start_time": "2021-08-22T09:06:26.150Z"
   },
   {
    "duration": -369,
    "start_time": "2021-08-22T09:06:26.155Z"
   },
   {
    "duration": -377,
    "start_time": "2021-08-22T09:06:26.165Z"
   },
   {
    "duration": -381,
    "start_time": "2021-08-22T09:06:26.170Z"
   },
   {
    "duration": -386,
    "start_time": "2021-08-22T09:06:26.176Z"
   },
   {
    "duration": -389,
    "start_time": "2021-08-22T09:06:26.180Z"
   },
   {
    "duration": -393,
    "start_time": "2021-08-22T09:06:26.186Z"
   },
   {
    "duration": -396,
    "start_time": "2021-08-22T09:06:26.190Z"
   },
   {
    "duration": -400,
    "start_time": "2021-08-22T09:06:26.195Z"
   },
   {
    "duration": -403,
    "start_time": "2021-08-22T09:06:26.200Z"
   },
   {
    "duration": -407,
    "start_time": "2021-08-22T09:06:26.205Z"
   },
   {
    "duration": -411,
    "start_time": "2021-08-22T09:06:26.210Z"
   },
   {
    "duration": -414,
    "start_time": "2021-08-22T09:06:26.214Z"
   },
   {
    "duration": -417,
    "start_time": "2021-08-22T09:06:26.219Z"
   },
   {
    "duration": -439,
    "start_time": "2021-08-22T09:06:26.242Z"
   },
   {
    "duration": -452,
    "start_time": "2021-08-22T09:06:26.256Z"
   },
   {
    "duration": -409,
    "start_time": "2021-08-22T09:06:26.271Z"
   },
   {
    "duration": -422,
    "start_time": "2021-08-22T09:06:26.285Z"
   },
   {
    "duration": -434,
    "start_time": "2021-08-22T09:06:26.299Z"
   },
   {
    "duration": -440,
    "start_time": "2021-08-22T09:06:26.306Z"
   },
   {
    "duration": -451,
    "start_time": "2021-08-22T09:06:26.318Z"
   },
   {
    "duration": -462,
    "start_time": "2021-08-22T09:06:26.331Z"
   },
   {
    "duration": -465,
    "start_time": "2021-08-22T09:06:26.336Z"
   },
   {
    "duration": -476,
    "start_time": "2021-08-22T09:06:26.349Z"
   },
   {
    "duration": -498,
    "start_time": "2021-08-22T09:06:26.372Z"
   },
   {
    "duration": -508,
    "start_time": "2021-08-22T09:06:26.384Z"
   },
   {
    "duration": -514,
    "start_time": "2021-08-22T09:06:26.391Z"
   },
   {
    "duration": -524,
    "start_time": "2021-08-22T09:06:26.403Z"
   },
   {
    "duration": -536,
    "start_time": "2021-08-22T09:06:26.417Z"
   },
   {
    "duration": -541,
    "start_time": "2021-08-22T09:06:26.423Z"
   },
   {
    "duration": -552,
    "start_time": "2021-08-22T09:06:26.436Z"
   },
   {
    "duration": -564,
    "start_time": "2021-08-22T09:06:26.449Z"
   },
   {
    "duration": -570,
    "start_time": "2021-08-22T09:06:26.456Z"
   },
   {
    "duration": -573,
    "start_time": "2021-08-22T09:06:26.460Z"
   },
   {
    "duration": -576,
    "start_time": "2021-08-22T09:06:26.465Z"
   },
   {
    "duration": -579,
    "start_time": "2021-08-22T09:06:26.469Z"
   },
   {
    "duration": -583,
    "start_time": "2021-08-22T09:06:26.474Z"
   },
   {
    "duration": -585,
    "start_time": "2021-08-22T09:06:26.478Z"
   },
   {
    "duration": -588,
    "start_time": "2021-08-22T09:06:26.482Z"
   },
   {
    "duration": -592,
    "start_time": "2021-08-22T09:06:26.487Z"
   },
   {
    "duration": -595,
    "start_time": "2021-08-22T09:06:26.492Z"
   },
   {
    "duration": -599,
    "start_time": "2021-08-22T09:06:26.497Z"
   },
   {
    "duration": -539,
    "start_time": "2021-08-22T09:06:26.501Z"
   },
   {
    "duration": -543,
    "start_time": "2021-08-22T09:06:26.506Z"
   },
   {
    "duration": -555,
    "start_time": "2021-08-22T09:06:26.520Z"
   },
   {
    "duration": -558,
    "start_time": "2021-08-22T09:06:26.524Z"
   },
   {
    "duration": -561,
    "start_time": "2021-08-22T09:06:26.528Z"
   },
   {
    "duration": -564,
    "start_time": "2021-08-22T09:06:26.532Z"
   },
   {
    "duration": -569,
    "start_time": "2021-08-22T09:06:26.538Z"
   },
   {
    "duration": -593,
    "start_time": "2021-08-22T09:06:26.563Z"
   },
   {
    "duration": -599,
    "start_time": "2021-08-22T09:06:26.571Z"
   },
   {
    "duration": -624,
    "start_time": "2021-08-22T09:06:26.597Z"
   },
   {
    "duration": -629,
    "start_time": "2021-08-22T09:06:26.603Z"
   },
   {
    "duration": 5,
    "start_time": "2021-08-22T09:06:41.997Z"
   },
   {
    "duration": 833,
    "start_time": "2021-08-22T09:06:47.398Z"
   },
   {
    "duration": 31,
    "start_time": "2021-08-22T09:06:48.234Z"
   },
   {
    "duration": 16,
    "start_time": "2021-08-22T09:06:48.269Z"
   },
   {
    "duration": 78,
    "start_time": "2021-08-22T09:06:48.289Z"
   },
   {
    "duration": 5,
    "start_time": "2021-08-22T09:06:48.369Z"
   },
   {
    "duration": 7,
    "start_time": "2021-08-22T09:06:48.377Z"
   },
   {
    "duration": 11,
    "start_time": "2021-08-22T09:06:48.386Z"
   },
   {
    "duration": 16,
    "start_time": "2021-08-22T09:06:48.401Z"
   },
   {
    "duration": 46,
    "start_time": "2021-08-22T09:06:48.420Z"
   },
   {
    "duration": 12,
    "start_time": "2021-08-22T09:06:48.468Z"
   },
   {
    "duration": 20,
    "start_time": "2021-08-22T09:06:48.483Z"
   },
   {
    "duration": 7,
    "start_time": "2021-08-22T09:06:48.506Z"
   },
   {
    "duration": 48,
    "start_time": "2021-08-22T09:06:48.516Z"
   },
   {
    "duration": 23,
    "start_time": "2021-08-22T09:06:48.567Z"
   },
   {
    "duration": 26,
    "start_time": "2021-08-22T09:06:48.592Z"
   },
   {
    "duration": 55,
    "start_time": "2021-08-22T09:06:48.620Z"
   },
   {
    "duration": 15,
    "start_time": "2021-08-22T09:06:48.678Z"
   },
   {
    "duration": 20,
    "start_time": "2021-08-22T09:06:48.695Z"
   },
   {
    "duration": 45,
    "start_time": "2021-08-22T09:06:48.717Z"
   },
   {
    "duration": 20,
    "start_time": "2021-08-22T09:06:48.764Z"
   },
   {
    "duration": 22,
    "start_time": "2021-08-22T09:06:48.787Z"
   },
   {
    "duration": 18,
    "start_time": "2021-08-22T09:06:48.812Z"
   },
   {
    "duration": 27,
    "start_time": "2021-08-22T09:06:48.838Z"
   },
   {
    "duration": 8,
    "start_time": "2021-08-22T09:06:48.871Z"
   },
   {
    "duration": 6,
    "start_time": "2021-08-22T09:06:48.882Z"
   },
   {
    "duration": 5,
    "start_time": "2021-08-22T09:06:48.891Z"
   },
   {
    "duration": 13,
    "start_time": "2021-08-22T09:06:48.899Z"
   },
   {
    "duration": 5,
    "start_time": "2021-08-22T09:06:48.962Z"
   },
   {
    "duration": 20,
    "start_time": "2021-08-22T09:06:48.970Z"
   },
   {
    "duration": 11,
    "start_time": "2021-08-22T09:06:48.993Z"
   },
   {
    "duration": 11,
    "start_time": "2021-08-22T09:06:49.007Z"
   },
   {
    "duration": 45,
    "start_time": "2021-08-22T09:06:49.022Z"
   },
   {
    "duration": 38,
    "start_time": "2021-08-22T09:06:49.070Z"
   },
   {
    "duration": 59,
    "start_time": "2021-08-22T09:06:49.112Z"
   },
   {
    "duration": 27,
    "start_time": "2021-08-22T09:06:49.174Z"
   },
   {
    "duration": 10,
    "start_time": "2021-08-22T09:06:49.204Z"
   },
   {
    "duration": 4806,
    "start_time": "2021-08-22T09:06:49.216Z"
   },
   {
    "duration": 13,
    "start_time": "2021-08-22T09:06:54.026Z"
   },
   {
    "duration": 32,
    "start_time": "2021-08-22T09:06:54.042Z"
   },
   {
    "duration": 7,
    "start_time": "2021-08-22T09:06:54.076Z"
   },
   {
    "duration": 5,
    "start_time": "2021-08-22T09:06:54.085Z"
   },
   {
    "duration": 8,
    "start_time": "2021-08-22T09:06:54.092Z"
   },
   {
    "duration": 10,
    "start_time": "2021-08-22T09:06:54.102Z"
   },
   {
    "duration": 9,
    "start_time": "2021-08-22T09:06:54.162Z"
   },
   {
    "duration": 16,
    "start_time": "2021-08-22T09:06:54.174Z"
   },
   {
    "duration": 7,
    "start_time": "2021-08-22T09:06:54.192Z"
   },
   {
    "duration": 11,
    "start_time": "2021-08-22T09:06:54.201Z"
   },
   {
    "duration": 50,
    "start_time": "2021-08-22T09:06:54.215Z"
   },
   {
    "duration": 20,
    "start_time": "2021-08-22T09:06:54.268Z"
   },
   {
    "duration": 11,
    "start_time": "2021-08-22T09:06:54.291Z"
   },
   {
    "duration": 11,
    "start_time": "2021-08-22T09:06:54.305Z"
   },
   {
    "duration": 49,
    "start_time": "2021-08-22T09:06:54.318Z"
   },
   {
    "duration": 10,
    "start_time": "2021-08-22T09:06:54.370Z"
   },
   {
    "duration": 13,
    "start_time": "2021-08-22T09:06:54.382Z"
   },
   {
    "duration": 17,
    "start_time": "2021-08-22T09:06:54.397Z"
   },
   {
    "duration": 48,
    "start_time": "2021-08-22T09:06:54.417Z"
   },
   {
    "duration": 20,
    "start_time": "2021-08-22T09:06:54.467Z"
   },
   {
    "duration": 12,
    "start_time": "2021-08-22T09:06:54.490Z"
   },
   {
    "duration": 7,
    "start_time": "2021-08-22T09:06:54.505Z"
   },
   {
    "duration": 48,
    "start_time": "2021-08-22T09:06:54.515Z"
   },
   {
    "duration": 8,
    "start_time": "2021-08-22T09:06:54.566Z"
   },
   {
    "duration": 16,
    "start_time": "2021-08-22T09:06:54.577Z"
   },
   {
    "duration": 18,
    "start_time": "2021-08-22T09:06:54.596Z"
   },
   {
    "duration": 51,
    "start_time": "2021-08-22T09:06:54.617Z"
   },
   {
    "duration": 29,
    "start_time": "2021-08-22T09:06:54.671Z"
   },
   {
    "duration": 77,
    "start_time": "2021-08-22T09:06:54.703Z"
   },
   {
    "duration": 47,
    "start_time": "2021-08-22T09:06:54.783Z"
   },
   {
    "duration": 45,
    "start_time": "2021-08-22T09:06:54.865Z"
   },
   {
    "duration": 73,
    "start_time": "2021-08-22T09:06:54.913Z"
   },
   {
    "duration": 27,
    "start_time": "2021-08-22T09:06:54.988Z"
   },
   {
    "duration": 66,
    "start_time": "2021-08-22T09:06:55.017Z"
   },
   {
    "duration": 1929,
    "start_time": "2021-08-22T09:07:22.347Z"
   },
   {
    "duration": 846,
    "start_time": "2021-08-22T09:07:26.957Z"
   },
   {
    "duration": 18,
    "start_time": "2021-08-22T09:07:27.805Z"
   },
   {
    "duration": 14,
    "start_time": "2021-08-22T09:07:27.826Z"
   },
   {
    "duration": 63,
    "start_time": "2021-08-22T09:07:27.843Z"
   },
   {
    "duration": 5,
    "start_time": "2021-08-22T09:07:27.909Z"
   },
   {
    "duration": 5,
    "start_time": "2021-08-22T09:07:27.916Z"
   },
   {
    "duration": 41,
    "start_time": "2021-08-22T09:07:27.923Z"
   },
   {
    "duration": 13,
    "start_time": "2021-08-22T09:07:27.967Z"
   },
   {
    "duration": 5,
    "start_time": "2021-08-22T09:07:27.983Z"
   },
   {
    "duration": 6,
    "start_time": "2021-08-22T09:07:27.990Z"
   },
   {
    "duration": 15,
    "start_time": "2021-08-22T09:07:27.998Z"
   },
   {
    "duration": 6,
    "start_time": "2021-08-22T09:07:28.016Z"
   },
   {
    "duration": 47,
    "start_time": "2021-08-22T09:07:28.025Z"
   },
   {
    "duration": 22,
    "start_time": "2021-08-22T09:07:28.075Z"
   },
   {
    "duration": 66,
    "start_time": "2021-08-22T09:07:28.100Z"
   },
   {
    "duration": 22,
    "start_time": "2021-08-22T09:07:28.168Z"
   },
   {
    "duration": 16,
    "start_time": "2021-08-22T09:07:28.192Z"
   },
   {
    "duration": 25,
    "start_time": "2021-08-22T09:07:28.210Z"
   },
   {
    "duration": 16,
    "start_time": "2021-08-22T09:07:28.261Z"
   },
   {
    "duration": 24,
    "start_time": "2021-08-22T09:07:28.279Z"
   },
   {
    "duration": 22,
    "start_time": "2021-08-22T09:07:28.306Z"
   },
   {
    "duration": 32,
    "start_time": "2021-08-22T09:07:28.331Z"
   },
   {
    "duration": 22,
    "start_time": "2021-08-22T09:07:28.371Z"
   },
   {
    "duration": 32,
    "start_time": "2021-08-22T09:07:28.396Z"
   },
   {
    "duration": 7,
    "start_time": "2021-08-22T09:07:28.430Z"
   },
   {
    "duration": 12,
    "start_time": "2021-08-22T09:07:28.439Z"
   },
   {
    "duration": 21,
    "start_time": "2021-08-22T09:07:28.454Z"
   },
   {
    "duration": 14,
    "start_time": "2021-08-22T09:07:28.478Z"
   },
   {
    "duration": 24,
    "start_time": "2021-08-22T09:07:28.494Z"
   },
   {
    "duration": 10,
    "start_time": "2021-08-22T09:07:28.521Z"
   },
   {
    "duration": 7,
    "start_time": "2021-08-22T09:07:28.533Z"
   },
   {
    "duration": 6,
    "start_time": "2021-08-22T09:07:28.542Z"
   },
   {
    "duration": 42,
    "start_time": "2021-08-22T09:07:28.550Z"
   },
   {
    "duration": 27,
    "start_time": "2021-08-22T09:07:28.595Z"
   },
   {
    "duration": 49,
    "start_time": "2021-08-22T09:07:28.624Z"
   },
   {
    "duration": 8,
    "start_time": "2021-08-22T09:07:28.675Z"
   },
   {
    "duration": 4695,
    "start_time": "2021-08-22T09:07:28.685Z"
   },
   {
    "duration": 8,
    "start_time": "2021-08-22T09:07:33.383Z"
   },
   {
    "duration": 37,
    "start_time": "2021-08-22T09:07:33.394Z"
   },
   {
    "duration": 8,
    "start_time": "2021-08-22T09:07:33.434Z"
   },
   {
    "duration": 21,
    "start_time": "2021-08-22T09:07:33.444Z"
   },
   {
    "duration": 6,
    "start_time": "2021-08-22T09:07:33.469Z"
   },
   {
    "duration": 10,
    "start_time": "2021-08-22T09:07:33.477Z"
   },
   {
    "duration": 9,
    "start_time": "2021-08-22T09:07:33.489Z"
   },
   {
    "duration": 8,
    "start_time": "2021-08-22T09:07:33.500Z"
   },
   {
    "duration": 52,
    "start_time": "2021-08-22T09:07:33.510Z"
   },
   {
    "duration": 12,
    "start_time": "2021-08-22T09:07:33.565Z"
   },
   {
    "duration": 11,
    "start_time": "2021-08-22T09:07:33.579Z"
   },
   {
    "duration": 19,
    "start_time": "2021-08-22T09:07:33.593Z"
   },
   {
    "duration": 12,
    "start_time": "2021-08-22T09:07:33.614Z"
   },
   {
    "duration": 11,
    "start_time": "2021-08-22T09:07:33.663Z"
   },
   {
    "duration": 21,
    "start_time": "2021-08-22T09:07:33.677Z"
   },
   {
    "duration": 10,
    "start_time": "2021-08-22T09:07:33.701Z"
   },
   {
    "duration": 15,
    "start_time": "2021-08-22T09:07:33.713Z"
   },
   {
    "duration": 34,
    "start_time": "2021-08-22T09:07:33.731Z"
   },
   {
    "duration": 24,
    "start_time": "2021-08-22T09:07:33.768Z"
   },
   {
    "duration": 32,
    "start_time": "2021-08-22T09:07:33.794Z"
   },
   {
    "duration": 18,
    "start_time": "2021-08-22T09:07:33.828Z"
   },
   {
    "duration": 13,
    "start_time": "2021-08-22T09:07:33.848Z"
   },
   {
    "duration": 9,
    "start_time": "2021-08-22T09:07:33.863Z"
   },
   {
    "duration": 17,
    "start_time": "2021-08-22T09:07:33.874Z"
   },
   {
    "duration": 22,
    "start_time": "2021-08-22T09:07:33.893Z"
   },
   {
    "duration": 22,
    "start_time": "2021-08-22T09:07:33.918Z"
   },
   {
    "duration": 17,
    "start_time": "2021-08-22T09:07:33.942Z"
   },
   {
    "duration": 19,
    "start_time": "2021-08-22T09:07:33.962Z"
   },
   {
    "duration": 53,
    "start_time": "2021-08-22T09:07:33.984Z"
   },
   {
    "duration": 42,
    "start_time": "2021-08-22T09:07:34.039Z"
   },
   {
    "duration": 30,
    "start_time": "2021-08-22T09:07:34.087Z"
   },
   {
    "duration": 53,
    "start_time": "2021-08-22T09:07:34.120Z"
   },
   {
    "duration": 25,
    "start_time": "2021-08-22T09:07:34.176Z"
   },
   {
    "duration": 62,
    "start_time": "2021-08-22T09:07:34.203Z"
   },
   {
    "duration": 61,
    "start_time": "2021-08-22T09:09:24.952Z"
   },
   {
    "duration": 30,
    "start_time": "2021-08-22T09:09:30.225Z"
   },
   {
    "duration": 98,
    "start_time": "2021-08-22T09:10:24.534Z"
   },
   {
    "duration": 6738,
    "start_time": "2021-08-22T09:10:53.836Z"
   },
   {
    "duration": 888,
    "start_time": "2021-08-22T09:11:03.908Z"
   },
   {
    "duration": 18,
    "start_time": "2021-08-22T09:11:04.799Z"
   },
   {
    "duration": 23,
    "start_time": "2021-08-22T09:11:04.820Z"
   },
   {
    "duration": 52,
    "start_time": "2021-08-22T09:11:04.861Z"
   },
   {
    "duration": 6,
    "start_time": "2021-08-22T09:11:04.915Z"
   },
   {
    "duration": 38,
    "start_time": "2021-08-22T09:11:04.924Z"
   },
   {
    "duration": 7,
    "start_time": "2021-08-22T09:11:04.965Z"
   },
   {
    "duration": 20,
    "start_time": "2021-08-22T09:11:04.978Z"
   },
   {
    "duration": 6,
    "start_time": "2021-08-22T09:11:05.003Z"
   },
   {
    "duration": 51,
    "start_time": "2021-08-22T09:11:05.012Z"
   },
   {
    "duration": 24,
    "start_time": "2021-08-22T09:11:05.066Z"
   },
   {
    "duration": 9,
    "start_time": "2021-08-22T09:11:05.093Z"
   },
   {
    "duration": 12,
    "start_time": "2021-08-22T09:11:05.105Z"
   },
   {
    "duration": 62,
    "start_time": "2021-08-22T09:11:05.119Z"
   },
   {
    "duration": 28,
    "start_time": "2021-08-22T09:11:05.184Z"
   },
   {
    "duration": 23,
    "start_time": "2021-08-22T09:11:05.215Z"
   },
   {
    "duration": 61,
    "start_time": "2021-08-22T09:11:05.263Z"
   },
   {
    "duration": 36,
    "start_time": "2021-08-22T09:11:05.327Z"
   },
   {
    "duration": 12,
    "start_time": "2021-08-22T09:11:05.366Z"
   },
   {
    "duration": 17,
    "start_time": "2021-08-22T09:11:05.380Z"
   },
   {
    "duration": 19,
    "start_time": "2021-08-22T09:11:05.399Z"
   },
   {
    "duration": 12,
    "start_time": "2021-08-22T09:11:05.420Z"
   },
   {
    "duration": 5,
    "start_time": "2021-08-22T09:11:05.438Z"
   },
   {
    "duration": 24,
    "start_time": "2021-08-22T09:11:05.446Z"
   },
   {
    "duration": 4,
    "start_time": "2021-08-22T09:11:05.472Z"
   },
   {
    "duration": 19,
    "start_time": "2021-08-22T09:11:05.478Z"
   },
   {
    "duration": 16,
    "start_time": "2021-08-22T09:11:05.499Z"
   },
   {
    "duration": 7,
    "start_time": "2021-08-22T09:11:05.517Z"
   },
   {
    "duration": 37,
    "start_time": "2021-08-22T09:11:05.527Z"
   },
   {
    "duration": 39,
    "start_time": "2021-08-22T09:11:05.566Z"
   },
   {
    "duration": 28,
    "start_time": "2021-08-22T09:11:05.607Z"
   },
   {
    "duration": 45,
    "start_time": "2021-08-22T09:11:05.637Z"
   },
   {
    "duration": 7,
    "start_time": "2021-08-22T09:11:05.684Z"
   },
   {
    "duration": 4733,
    "start_time": "2021-08-22T09:11:05.694Z"
   },
   {
    "duration": 9,
    "start_time": "2021-08-22T09:11:10.430Z"
   },
   {
    "duration": 37,
    "start_time": "2021-08-22T09:11:10.441Z"
   },
   {
    "duration": 8,
    "start_time": "2021-08-22T09:11:10.480Z"
   },
   {
    "duration": 5,
    "start_time": "2021-08-22T09:11:10.491Z"
   },
   {
    "duration": 7,
    "start_time": "2021-08-22T09:11:10.499Z"
   },
   {
    "duration": 12,
    "start_time": "2021-08-22T09:11:10.508Z"
   },
   {
    "duration": 8,
    "start_time": "2021-08-22T09:11:10.563Z"
   },
   {
    "duration": 7,
    "start_time": "2021-08-22T09:11:10.574Z"
   },
   {
    "duration": 7,
    "start_time": "2021-08-22T09:11:10.584Z"
   },
   {
    "duration": 11,
    "start_time": "2021-08-22T09:11:10.594Z"
   },
   {
    "duration": 61,
    "start_time": "2021-08-22T09:11:10.608Z"
   },
   {
    "duration": 20,
    "start_time": "2021-08-22T09:11:10.673Z"
   },
   {
    "duration": 16,
    "start_time": "2021-08-22T09:11:10.696Z"
   },
   {
    "duration": 64,
    "start_time": "2021-08-22T09:11:10.715Z"
   },
   {
    "duration": 11,
    "start_time": "2021-08-22T09:11:10.782Z"
   },
   {
    "duration": 14,
    "start_time": "2021-08-22T09:11:10.796Z"
   },
   {
    "duration": 52,
    "start_time": "2021-08-22T09:11:10.813Z"
   },
   {
    "duration": 15,
    "start_time": "2021-08-22T09:11:10.868Z"
   },
   {
    "duration": 10,
    "start_time": "2021-08-22T09:11:10.886Z"
   },
   {
    "duration": 14,
    "start_time": "2021-08-22T09:11:10.899Z"
   },
   {
    "duration": 15,
    "start_time": "2021-08-22T09:11:10.915Z"
   },
   {
    "duration": 6,
    "start_time": "2021-08-22T09:11:10.961Z"
   },
   {
    "duration": 9,
    "start_time": "2021-08-22T09:11:10.970Z"
   },
   {
    "duration": 7,
    "start_time": "2021-08-22T09:11:10.981Z"
   },
   {
    "duration": 8,
    "start_time": "2021-08-22T09:11:10.990Z"
   },
   {
    "duration": 16,
    "start_time": "2021-08-22T09:11:11.001Z"
   },
   {
    "duration": 10,
    "start_time": "2021-08-22T09:11:11.062Z"
   },
   {
    "duration": 20,
    "start_time": "2021-08-22T09:11:11.075Z"
   },
   {
    "duration": 71,
    "start_time": "2021-08-22T09:11:11.097Z"
   },
   {
    "duration": 33,
    "start_time": "2021-08-22T09:11:11.171Z"
   },
   {
    "duration": 57,
    "start_time": "2021-08-22T09:11:11.206Z"
   },
   {
    "duration": 37,
    "start_time": "2021-08-22T09:11:11.266Z"
   },
   {
    "duration": 29,
    "start_time": "2021-08-22T09:11:11.305Z"
   },
   {
    "duration": 40,
    "start_time": "2021-08-22T09:11:11.365Z"
   },
   {
    "duration": 801,
    "start_time": "2021-08-22T09:11:40.309Z"
   },
   {
    "duration": 18,
    "start_time": "2021-08-22T09:11:41.113Z"
   },
   {
    "duration": 30,
    "start_time": "2021-08-22T09:11:41.135Z"
   },
   {
    "duration": 50,
    "start_time": "2021-08-22T09:11:41.168Z"
   },
   {
    "duration": 5,
    "start_time": "2021-08-22T09:11:41.220Z"
   },
   {
    "duration": 6,
    "start_time": "2021-08-22T09:11:41.227Z"
   },
   {
    "duration": 30,
    "start_time": "2021-08-22T09:11:41.235Z"
   },
   {
    "duration": 13,
    "start_time": "2021-08-22T09:11:41.269Z"
   },
   {
    "duration": 6,
    "start_time": "2021-08-22T09:11:41.285Z"
   },
   {
    "duration": 5,
    "start_time": "2021-08-22T09:11:41.294Z"
   },
   {
    "duration": 15,
    "start_time": "2021-08-22T09:11:41.302Z"
   },
   {
    "duration": 9,
    "start_time": "2021-08-22T09:11:41.363Z"
   },
   {
    "duration": 12,
    "start_time": "2021-08-22T09:11:41.375Z"
   },
   {
    "duration": 31,
    "start_time": "2021-08-22T09:11:41.390Z"
   },
   {
    "duration": 74,
    "start_time": "2021-08-22T09:11:41.424Z"
   },
   {
    "duration": 32,
    "start_time": "2021-08-22T09:11:41.502Z"
   },
   {
    "duration": 106,
    "start_time": "2021-08-22T09:11:41.537Z"
   },
   {
    "duration": 33,
    "start_time": "2021-08-22T09:11:41.646Z"
   },
   {
    "duration": 7,
    "start_time": "2021-08-22T09:11:41.682Z"
   },
   {
    "duration": 7,
    "start_time": "2021-08-22T09:11:41.692Z"
   },
   {
    "duration": 9,
    "start_time": "2021-08-22T09:11:41.702Z"
   },
   {
    "duration": 52,
    "start_time": "2021-08-22T09:11:41.714Z"
   },
   {
    "duration": 6,
    "start_time": "2021-08-22T09:11:41.776Z"
   },
   {
    "duration": 13,
    "start_time": "2021-08-22T09:11:41.787Z"
   },
   {
    "duration": 6,
    "start_time": "2021-08-22T09:11:41.803Z"
   },
   {
    "duration": 63,
    "start_time": "2021-08-22T09:11:41.811Z"
   },
   {
    "duration": 25,
    "start_time": "2021-08-22T09:11:41.876Z"
   },
   {
    "duration": 25,
    "start_time": "2021-08-22T09:11:41.905Z"
   },
   {
    "duration": 11,
    "start_time": "2021-08-22T09:11:41.933Z"
   },
   {
    "duration": 58,
    "start_time": "2021-08-22T09:11:41.947Z"
   },
   {
    "duration": 41,
    "start_time": "2021-08-22T09:11:42.007Z"
   },
   {
    "duration": 44,
    "start_time": "2021-08-22T09:11:42.051Z"
   },
   {
    "duration": 12,
    "start_time": "2021-08-22T09:11:42.098Z"
   },
   {
    "duration": 4781,
    "start_time": "2021-08-22T09:11:42.112Z"
   },
   {
    "duration": 9,
    "start_time": "2021-08-22T09:11:46.895Z"
   },
   {
    "duration": 19,
    "start_time": "2021-08-22T09:11:46.906Z"
   },
   {
    "duration": 41,
    "start_time": "2021-08-22T09:11:46.927Z"
   },
   {
    "duration": 9,
    "start_time": "2021-08-22T09:11:46.970Z"
   },
   {
    "duration": 19,
    "start_time": "2021-08-22T09:11:46.981Z"
   },
   {
    "duration": 11,
    "start_time": "2021-08-22T09:11:47.002Z"
   },
   {
    "duration": 9,
    "start_time": "2021-08-22T09:11:47.016Z"
   },
   {
    "duration": 37,
    "start_time": "2021-08-22T09:11:47.028Z"
   },
   {
    "duration": 5,
    "start_time": "2021-08-22T09:11:47.067Z"
   },
   {
    "duration": 10,
    "start_time": "2021-08-22T09:11:47.076Z"
   },
   {
    "duration": 23,
    "start_time": "2021-08-22T09:11:47.088Z"
   },
   {
    "duration": 55,
    "start_time": "2021-08-22T09:11:47.114Z"
   },
   {
    "duration": 17,
    "start_time": "2021-08-22T09:11:47.172Z"
   },
   {
    "duration": 17,
    "start_time": "2021-08-22T09:11:47.192Z"
   },
   {
    "duration": 10,
    "start_time": "2021-08-22T09:11:47.213Z"
   },
   {
    "duration": 48,
    "start_time": "2021-08-22T09:11:47.225Z"
   },
   {
    "duration": 16,
    "start_time": "2021-08-22T09:11:47.276Z"
   },
   {
    "duration": 15,
    "start_time": "2021-08-22T09:11:47.296Z"
   },
   {
    "duration": 12,
    "start_time": "2021-08-22T09:11:47.314Z"
   },
   {
    "duration": 49,
    "start_time": "2021-08-22T09:11:47.329Z"
   },
   {
    "duration": 11,
    "start_time": "2021-08-22T09:11:47.381Z"
   },
   {
    "duration": 6,
    "start_time": "2021-08-22T09:11:47.395Z"
   },
   {
    "duration": 7,
    "start_time": "2021-08-22T09:11:47.404Z"
   },
   {
    "duration": 52,
    "start_time": "2021-08-22T09:11:47.414Z"
   },
   {
    "duration": 14,
    "start_time": "2021-08-22T09:11:47.469Z"
   },
   {
    "duration": 23,
    "start_time": "2021-08-22T09:11:47.486Z"
   },
   {
    "duration": 11,
    "start_time": "2021-08-22T09:11:47.511Z"
   },
   {
    "duration": 54,
    "start_time": "2021-08-22T09:11:47.524Z"
   },
   {
    "duration": 44,
    "start_time": "2021-08-22T09:11:47.580Z"
   },
   {
    "duration": 55,
    "start_time": "2021-08-22T09:11:47.627Z"
   },
   {
    "duration": 31,
    "start_time": "2021-08-22T09:11:47.684Z"
   },
   {
    "duration": 56,
    "start_time": "2021-08-22T09:11:47.718Z"
   },
   {
    "duration": 29,
    "start_time": "2021-08-22T09:11:47.777Z"
   },
   {
    "duration": 76,
    "start_time": "2021-08-22T09:11:47.815Z"
   },
   {
    "duration": 10,
    "start_time": "2021-08-22T09:13:53.392Z"
   },
   {
    "duration": 858,
    "start_time": "2021-08-22T09:14:18.940Z"
   },
   {
    "duration": 22,
    "start_time": "2021-08-22T09:14:19.801Z"
   },
   {
    "duration": 15,
    "start_time": "2021-08-22T09:14:19.826Z"
   },
   {
    "duration": 45,
    "start_time": "2021-08-22T09:14:19.863Z"
   },
   {
    "duration": 6,
    "start_time": "2021-08-22T09:14:19.910Z"
   },
   {
    "duration": 11,
    "start_time": "2021-08-22T09:14:19.918Z"
   },
   {
    "duration": 35,
    "start_time": "2021-08-22T09:14:19.931Z"
   },
   {
    "duration": 14,
    "start_time": "2021-08-22T09:14:19.969Z"
   },
   {
    "duration": 4,
    "start_time": "2021-08-22T09:14:19.986Z"
   },
   {
    "duration": 5,
    "start_time": "2021-08-22T09:14:19.993Z"
   },
   {
    "duration": 61,
    "start_time": "2021-08-22T09:14:20.001Z"
   },
   {
    "duration": 7,
    "start_time": "2021-08-22T09:14:20.065Z"
   },
   {
    "duration": 13,
    "start_time": "2021-08-22T09:14:20.074Z"
   },
   {
    "duration": 27,
    "start_time": "2021-08-22T09:14:20.089Z"
   },
   {
    "duration": 67,
    "start_time": "2021-08-22T09:14:20.119Z"
   },
   {
    "duration": 23,
    "start_time": "2021-08-22T09:14:20.188Z"
   },
   {
    "duration": 84,
    "start_time": "2021-08-22T09:14:20.214Z"
   },
   {
    "duration": 17,
    "start_time": "2021-08-22T09:14:20.300Z"
   },
   {
    "duration": 13,
    "start_time": "2021-08-22T09:14:20.320Z"
   },
   {
    "duration": 30,
    "start_time": "2021-08-22T09:14:20.335Z"
   },
   {
    "duration": 12,
    "start_time": "2021-08-22T09:14:20.367Z"
   },
   {
    "duration": 7,
    "start_time": "2021-08-22T09:14:20.382Z"
   },
   {
    "duration": 7,
    "start_time": "2021-08-22T09:14:20.395Z"
   },
   {
    "duration": 13,
    "start_time": "2021-08-22T09:14:20.405Z"
   },
   {
    "duration": 4,
    "start_time": "2021-08-22T09:14:20.462Z"
   },
   {
    "duration": 19,
    "start_time": "2021-08-22T09:14:20.469Z"
   },
   {
    "duration": 10,
    "start_time": "2021-08-22T09:14:20.490Z"
   },
   {
    "duration": 7,
    "start_time": "2021-08-22T09:14:20.503Z"
   },
   {
    "duration": 50,
    "start_time": "2021-08-22T09:14:20.513Z"
   },
   {
    "duration": 34,
    "start_time": "2021-08-22T09:14:20.566Z"
   },
   {
    "duration": 57,
    "start_time": "2021-08-22T09:14:20.606Z"
   },
   {
    "duration": 23,
    "start_time": "2021-08-22T09:14:20.666Z"
   },
   {
    "duration": 8,
    "start_time": "2021-08-22T09:14:20.691Z"
   },
   {
    "duration": 4605,
    "start_time": "2021-08-22T09:14:20.701Z"
   },
   {
    "duration": 8,
    "start_time": "2021-08-22T09:14:25.308Z"
   },
   {
    "duration": 12,
    "start_time": "2021-08-22T09:14:25.319Z"
   },
   {
    "duration": 9,
    "start_time": "2021-08-22T09:14:25.361Z"
   },
   {
    "duration": 6,
    "start_time": "2021-08-22T09:14:25.373Z"
   },
   {
    "duration": 10,
    "start_time": "2021-08-22T09:14:25.382Z"
   },
   {
    "duration": 18,
    "start_time": "2021-08-22T09:14:25.394Z"
   },
   {
    "duration": 10,
    "start_time": "2021-08-22T09:14:25.415Z"
   },
   {
    "duration": 9,
    "start_time": "2021-08-22T09:14:25.463Z"
   },
   {
    "duration": 8,
    "start_time": "2021-08-22T09:14:25.475Z"
   },
   {
    "duration": 12,
    "start_time": "2021-08-22T09:14:25.486Z"
   },
   {
    "duration": 13,
    "start_time": "2021-08-22T09:14:25.501Z"
   },
   {
    "duration": 18,
    "start_time": "2021-08-22T09:14:25.561Z"
   },
   {
    "duration": 15,
    "start_time": "2021-08-22T09:14:25.582Z"
   },
   {
    "duration": 22,
    "start_time": "2021-08-22T09:14:25.599Z"
   },
   {
    "duration": 43,
    "start_time": "2021-08-22T09:14:25.624Z"
   },
   {
    "duration": 11,
    "start_time": "2021-08-22T09:14:25.671Z"
   },
   {
    "duration": 13,
    "start_time": "2021-08-22T09:14:25.685Z"
   },
   {
    "duration": 13,
    "start_time": "2021-08-22T09:14:25.701Z"
   },
   {
    "duration": 50,
    "start_time": "2021-08-22T09:14:25.717Z"
   },
   {
    "duration": 18,
    "start_time": "2021-08-22T09:14:25.770Z"
   },
   {
    "duration": 11,
    "start_time": "2021-08-22T09:14:25.791Z"
   },
   {
    "duration": 6,
    "start_time": "2021-08-22T09:14:25.805Z"
   },
   {
    "duration": 8,
    "start_time": "2021-08-22T09:14:25.814Z"
   },
   {
    "duration": 6,
    "start_time": "2021-08-22T09:14:25.863Z"
   },
   {
    "duration": 9,
    "start_time": "2021-08-22T09:14:25.871Z"
   },
   {
    "duration": 15,
    "start_time": "2021-08-22T09:14:25.883Z"
   },
   {
    "duration": 10,
    "start_time": "2021-08-22T09:14:25.901Z"
   },
   {
    "duration": 62,
    "start_time": "2021-08-22T09:14:25.914Z"
   },
   {
    "duration": 56,
    "start_time": "2021-08-22T09:14:25.979Z"
   },
   {
    "duration": 43,
    "start_time": "2021-08-22T09:14:26.037Z"
   },
   {
    "duration": 30,
    "start_time": "2021-08-22T09:14:26.082Z"
   },
   {
    "duration": 52,
    "start_time": "2021-08-22T09:14:26.114Z"
   },
   {
    "duration": 35,
    "start_time": "2021-08-22T09:14:26.169Z"
   },
   {
    "duration": 57,
    "start_time": "2021-08-22T09:14:26.211Z"
   },
   {
    "duration": 107,
    "start_time": "2021-08-22T09:18:55.048Z"
   },
   {
    "duration": 76,
    "start_time": "2021-08-22T09:19:37.456Z"
   },
   {
    "duration": 852,
    "start_time": "2021-08-22T09:22:31.664Z"
   },
   {
    "duration": 17,
    "start_time": "2021-08-22T09:22:32.519Z"
   },
   {
    "duration": 28,
    "start_time": "2021-08-22T09:22:32.539Z"
   },
   {
    "duration": 46,
    "start_time": "2021-08-22T09:22:32.570Z"
   },
   {
    "duration": 5,
    "start_time": "2021-08-22T09:22:32.619Z"
   },
   {
    "duration": 36,
    "start_time": "2021-08-22T09:22:32.626Z"
   },
   {
    "duration": 5,
    "start_time": "2021-08-22T09:22:32.665Z"
   },
   {
    "duration": 15,
    "start_time": "2021-08-22T09:22:32.673Z"
   },
   {
    "duration": 5,
    "start_time": "2021-08-22T09:22:32.691Z"
   },
   {
    "duration": 9,
    "start_time": "2021-08-22T09:22:32.699Z"
   },
   {
    "duration": 50,
    "start_time": "2021-08-22T09:22:32.711Z"
   },
   {
    "duration": 7,
    "start_time": "2021-08-22T09:22:32.763Z"
   },
   {
    "duration": 12,
    "start_time": "2021-08-22T09:22:32.772Z"
   },
   {
    "duration": 23,
    "start_time": "2021-08-22T09:22:32.787Z"
   },
   {
    "duration": 70,
    "start_time": "2021-08-22T09:22:32.812Z"
   },
   {
    "duration": 22,
    "start_time": "2021-08-22T09:22:32.885Z"
   },
   {
    "duration": 73,
    "start_time": "2021-08-22T09:22:32.910Z"
   },
   {
    "duration": 18,
    "start_time": "2021-08-22T09:22:32.985Z"
   },
   {
    "duration": 15,
    "start_time": "2021-08-22T09:22:33.005Z"
   },
   {
    "duration": 13,
    "start_time": "2021-08-22T09:22:33.022Z"
   },
   {
    "duration": 27,
    "start_time": "2021-08-22T09:22:33.038Z"
   },
   {
    "duration": 6,
    "start_time": "2021-08-22T09:22:33.068Z"
   },
   {
    "duration": 5,
    "start_time": "2021-08-22T09:22:33.080Z"
   },
   {
    "duration": 13,
    "start_time": "2021-08-22T09:22:33.089Z"
   },
   {
    "duration": 4,
    "start_time": "2021-08-22T09:22:33.105Z"
   },
   {
    "duration": 58,
    "start_time": "2021-08-22T09:22:33.111Z"
   },
   {
    "duration": 8,
    "start_time": "2021-08-22T09:22:33.171Z"
   },
   {
    "duration": 7,
    "start_time": "2021-08-22T09:22:33.181Z"
   },
   {
    "duration": 8,
    "start_time": "2021-08-22T09:22:33.191Z"
   },
   {
    "duration": 72,
    "start_time": "2021-08-22T09:22:33.202Z"
   },
   {
    "duration": 30,
    "start_time": "2021-08-22T09:22:33.276Z"
   },
   {
    "duration": 24,
    "start_time": "2021-08-22T09:22:33.309Z"
   },
   {
    "duration": 9,
    "start_time": "2021-08-22T09:22:33.362Z"
   },
   {
    "duration": 4956,
    "start_time": "2021-08-22T09:22:33.374Z"
   },
   {
    "duration": 29,
    "start_time": "2021-08-22T09:22:38.333Z"
   },
   {
    "duration": 14,
    "start_time": "2021-08-22T09:22:38.366Z"
   },
   {
    "duration": 20,
    "start_time": "2021-08-22T09:22:38.384Z"
   },
   {
    "duration": 13,
    "start_time": "2021-08-22T09:22:38.407Z"
   },
   {
    "duration": 18,
    "start_time": "2021-08-22T09:22:38.423Z"
   },
   {
    "duration": 26,
    "start_time": "2021-08-22T09:22:38.443Z"
   },
   {
    "duration": 14,
    "start_time": "2021-08-22T09:22:38.472Z"
   },
   {
    "duration": 15,
    "start_time": "2021-08-22T09:22:38.488Z"
   },
   {
    "duration": 13,
    "start_time": "2021-08-22T09:22:38.506Z"
   },
   {
    "duration": 14,
    "start_time": "2021-08-22T09:22:38.522Z"
   },
   {
    "duration": 27,
    "start_time": "2021-08-22T09:22:38.538Z"
   },
   {
    "duration": 30,
    "start_time": "2021-08-22T09:22:38.568Z"
   },
   {
    "duration": 12,
    "start_time": "2021-08-22T09:22:38.600Z"
   },
   {
    "duration": 18,
    "start_time": "2021-08-22T09:22:38.614Z"
   },
   {
    "duration": 29,
    "start_time": "2021-08-22T09:22:38.634Z"
   },
   {
    "duration": 15,
    "start_time": "2021-08-22T09:22:38.665Z"
   },
   {
    "duration": 19,
    "start_time": "2021-08-22T09:22:38.682Z"
   },
   {
    "duration": 19,
    "start_time": "2021-08-22T09:22:38.704Z"
   },
   {
    "duration": 14,
    "start_time": "2021-08-22T09:22:38.725Z"
   },
   {
    "duration": 31,
    "start_time": "2021-08-22T09:22:38.742Z"
   },
   {
    "duration": 28,
    "start_time": "2021-08-22T09:22:38.776Z"
   },
   {
    "duration": 11,
    "start_time": "2021-08-22T09:22:38.808Z"
   },
   {
    "duration": 18,
    "start_time": "2021-08-22T09:22:38.822Z"
   },
   {
    "duration": 29,
    "start_time": "2021-08-22T09:22:38.843Z"
   },
   {
    "duration": 23,
    "start_time": "2021-08-22T09:22:38.875Z"
   },
   {
    "duration": 23,
    "start_time": "2021-08-22T09:22:38.900Z"
   },
   {
    "duration": 34,
    "start_time": "2021-08-22T09:22:38.926Z"
   },
   {
    "duration": 29,
    "start_time": "2021-08-22T09:22:38.963Z"
   },
   {
    "duration": 73,
    "start_time": "2021-08-22T09:22:38.996Z"
   },
   {
    "duration": 42,
    "start_time": "2021-08-22T09:22:39.072Z"
   },
   {
    "duration": 67,
    "start_time": "2021-08-22T09:22:39.118Z"
   },
   {
    "duration": 57,
    "start_time": "2021-08-22T09:22:39.188Z"
   },
   {
    "duration": 40,
    "start_time": "2021-08-22T09:22:39.263Z"
   },
   {
    "duration": 58,
    "start_time": "2021-08-22T09:22:39.310Z"
   },
   {
    "duration": 869,
    "start_time": "2021-08-22T09:22:54.324Z"
   },
   {
    "duration": 19,
    "start_time": "2021-08-22T09:22:55.196Z"
   },
   {
    "duration": 17,
    "start_time": "2021-08-22T09:22:55.219Z"
   },
   {
    "duration": 49,
    "start_time": "2021-08-22T09:22:55.264Z"
   },
   {
    "duration": 7,
    "start_time": "2021-08-22T09:22:55.316Z"
   },
   {
    "duration": 38,
    "start_time": "2021-08-22T09:22:55.326Z"
   },
   {
    "duration": 12,
    "start_time": "2021-08-22T09:22:55.367Z"
   },
   {
    "duration": 13,
    "start_time": "2021-08-22T09:22:55.385Z"
   },
   {
    "duration": 5,
    "start_time": "2021-08-22T09:22:55.401Z"
   },
   {
    "duration": 20,
    "start_time": "2021-08-22T09:22:55.409Z"
   },
   {
    "duration": 13,
    "start_time": "2021-08-22T09:22:55.462Z"
   },
   {
    "duration": 7,
    "start_time": "2021-08-22T09:22:55.477Z"
   },
   {
    "duration": 11,
    "start_time": "2021-08-22T09:22:55.487Z"
   },
   {
    "duration": 67,
    "start_time": "2021-08-22T09:22:55.501Z"
   },
   {
    "duration": 26,
    "start_time": "2021-08-22T09:22:55.571Z"
   },
   {
    "duration": 21,
    "start_time": "2021-08-22T09:22:55.599Z"
   },
   {
    "duration": 87,
    "start_time": "2021-08-22T09:22:55.623Z"
   },
   {
    "duration": 18,
    "start_time": "2021-08-22T09:22:55.712Z"
   },
   {
    "duration": 32,
    "start_time": "2021-08-22T09:22:55.732Z"
   },
   {
    "duration": 8,
    "start_time": "2021-08-22T09:22:55.766Z"
   },
   {
    "duration": 9,
    "start_time": "2021-08-22T09:22:55.776Z"
   },
   {
    "duration": 7,
    "start_time": "2021-08-22T09:22:55.787Z"
   },
   {
    "duration": 4,
    "start_time": "2021-08-22T09:22:55.800Z"
   },
   {
    "duration": 11,
    "start_time": "2021-08-22T09:22:55.865Z"
   },
   {
    "duration": 4,
    "start_time": "2021-08-22T09:22:55.879Z"
   },
   {
    "duration": 20,
    "start_time": "2021-08-22T09:22:55.885Z"
   },
   {
    "duration": 11,
    "start_time": "2021-08-22T09:22:55.907Z"
   },
   {
    "duration": 17,
    "start_time": "2021-08-22T09:22:55.920Z"
   },
   {
    "duration": 31,
    "start_time": "2021-08-22T09:22:55.939Z"
   },
   {
    "duration": 34,
    "start_time": "2021-08-22T09:22:55.972Z"
   },
   {
    "duration": 56,
    "start_time": "2021-08-22T09:22:56.009Z"
   },
   {
    "duration": 23,
    "start_time": "2021-08-22T09:22:56.067Z"
   },
   {
    "duration": 8,
    "start_time": "2021-08-22T09:22:56.093Z"
   },
   {
    "duration": 5230,
    "start_time": "2021-08-22T09:22:56.104Z"
   },
   {
    "duration": 27,
    "start_time": "2021-08-22T09:23:01.336Z"
   },
   {
    "duration": 20,
    "start_time": "2021-08-22T09:23:01.366Z"
   },
   {
    "duration": 18,
    "start_time": "2021-08-22T09:23:01.389Z"
   },
   {
    "duration": 24,
    "start_time": "2021-08-22T09:23:01.409Z"
   },
   {
    "duration": 26,
    "start_time": "2021-08-22T09:23:01.436Z"
   },
   {
    "duration": 25,
    "start_time": "2021-08-22T09:23:01.466Z"
   },
   {
    "duration": 16,
    "start_time": "2021-08-22T09:23:01.494Z"
   },
   {
    "duration": 19,
    "start_time": "2021-08-22T09:23:01.514Z"
   },
   {
    "duration": 21,
    "start_time": "2021-08-22T09:23:01.536Z"
   },
   {
    "duration": 30,
    "start_time": "2021-08-22T09:23:01.560Z"
   },
   {
    "duration": 25,
    "start_time": "2021-08-22T09:23:01.593Z"
   },
   {
    "duration": 44,
    "start_time": "2021-08-22T09:23:01.621Z"
   },
   {
    "duration": 23,
    "start_time": "2021-08-22T09:23:01.668Z"
   },
   {
    "duration": 27,
    "start_time": "2021-08-22T09:23:01.694Z"
   },
   {
    "duration": 41,
    "start_time": "2021-08-22T09:23:01.724Z"
   },
   {
    "duration": 14,
    "start_time": "2021-08-22T09:23:01.768Z"
   },
   {
    "duration": 21,
    "start_time": "2021-08-22T09:23:01.786Z"
   },
   {
    "duration": 19,
    "start_time": "2021-08-22T09:23:01.810Z"
   },
   {
    "duration": 43,
    "start_time": "2021-08-22T09:23:01.832Z"
   },
   {
    "duration": 23,
    "start_time": "2021-08-22T09:23:01.877Z"
   },
   {
    "duration": 29,
    "start_time": "2021-08-22T09:23:01.903Z"
   },
   {
    "duration": 26,
    "start_time": "2021-08-22T09:23:01.935Z"
   },
   {
    "duration": 6,
    "start_time": "2021-08-22T09:23:01.965Z"
   },
   {
    "duration": 15,
    "start_time": "2021-08-22T09:23:01.974Z"
   },
   {
    "duration": 13,
    "start_time": "2021-08-22T09:23:01.992Z"
   },
   {
    "duration": 59,
    "start_time": "2021-08-22T09:23:02.008Z"
   },
   {
    "duration": 13,
    "start_time": "2021-08-22T09:23:02.070Z"
   },
   {
    "duration": 28,
    "start_time": "2021-08-22T09:23:02.086Z"
   },
   {
    "duration": 91,
    "start_time": "2021-08-22T09:23:02.117Z"
   },
   {
    "duration": 31,
    "start_time": "2021-08-22T09:23:02.211Z"
   },
   {
    "duration": 43,
    "start_time": "2021-08-22T09:23:02.245Z"
   },
   {
    "duration": 63,
    "start_time": "2021-08-22T09:23:02.291Z"
   },
   {
    "duration": 39,
    "start_time": "2021-08-22T09:23:02.361Z"
   },
   {
    "duration": 53,
    "start_time": "2021-08-22T09:23:02.408Z"
   },
   {
    "duration": 820,
    "start_time": "2021-08-22T09:28:49.817Z"
   },
   {
    "duration": 23,
    "start_time": "2021-08-22T09:28:50.640Z"
   },
   {
    "duration": 16,
    "start_time": "2021-08-22T09:28:50.667Z"
   },
   {
    "duration": 48,
    "start_time": "2021-08-22T09:28:50.686Z"
   },
   {
    "duration": 27,
    "start_time": "2021-08-22T09:28:50.737Z"
   },
   {
    "duration": 9,
    "start_time": "2021-08-22T09:28:50.767Z"
   },
   {
    "duration": 17,
    "start_time": "2021-08-22T09:28:50.779Z"
   },
   {
    "duration": 22,
    "start_time": "2021-08-22T09:28:50.799Z"
   },
   {
    "duration": 4,
    "start_time": "2021-08-22T09:28:50.825Z"
   },
   {
    "duration": 30,
    "start_time": "2021-08-22T09:28:50.832Z"
   },
   {
    "duration": 15,
    "start_time": "2021-08-22T09:28:50.865Z"
   },
   {
    "duration": 8,
    "start_time": "2021-08-22T09:28:50.882Z"
   },
   {
    "duration": 11,
    "start_time": "2021-08-22T09:28:50.893Z"
   },
   {
    "duration": 56,
    "start_time": "2021-08-22T09:28:50.906Z"
   },
   {
    "duration": 27,
    "start_time": "2021-08-22T09:28:50.964Z"
   },
   {
    "duration": 21,
    "start_time": "2021-08-22T09:28:50.994Z"
   },
   {
    "duration": 82,
    "start_time": "2021-08-22T09:28:51.017Z"
   },
   {
    "duration": 17,
    "start_time": "2021-08-22T09:28:51.101Z"
   },
   {
    "duration": 9,
    "start_time": "2021-08-22T09:28:51.120Z"
   },
   {
    "duration": 33,
    "start_time": "2021-08-22T09:28:51.131Z"
   },
   {
    "duration": 10,
    "start_time": "2021-08-22T09:28:51.166Z"
   },
   {
    "duration": 6,
    "start_time": "2021-08-22T09:28:51.178Z"
   },
   {
    "duration": 6,
    "start_time": "2021-08-22T09:28:51.190Z"
   },
   {
    "duration": 16,
    "start_time": "2021-08-22T09:28:51.200Z"
   },
   {
    "duration": 4,
    "start_time": "2021-08-22T09:28:51.219Z"
   },
   {
    "duration": 17,
    "start_time": "2021-08-22T09:28:51.263Z"
   },
   {
    "duration": 11,
    "start_time": "2021-08-22T09:28:51.282Z"
   },
   {
    "duration": 9,
    "start_time": "2021-08-22T09:28:51.296Z"
   },
   {
    "duration": 9,
    "start_time": "2021-08-22T09:28:51.308Z"
   },
   {
    "duration": 78,
    "start_time": "2021-08-22T09:28:51.319Z"
   },
   {
    "duration": 65,
    "start_time": "2021-08-22T09:28:51.400Z"
   },
   {
    "duration": 25,
    "start_time": "2021-08-22T09:28:51.467Z"
   },
   {
    "duration": 9,
    "start_time": "2021-08-22T09:28:51.494Z"
   },
   {
    "duration": 4858,
    "start_time": "2021-08-22T09:28:51.505Z"
   },
   {
    "duration": 10,
    "start_time": "2021-08-22T09:28:56.366Z"
   },
   {
    "duration": 10,
    "start_time": "2021-08-22T09:28:56.378Z"
   },
   {
    "duration": 9,
    "start_time": "2021-08-22T09:28:56.391Z"
   },
   {
    "duration": 4,
    "start_time": "2021-08-22T09:28:56.403Z"
   },
   {
    "duration": 6,
    "start_time": "2021-08-22T09:28:56.410Z"
   },
   {
    "duration": 49,
    "start_time": "2021-08-22T09:28:56.419Z"
   },
   {
    "duration": 10,
    "start_time": "2021-08-22T09:28:56.471Z"
   },
   {
    "duration": 8,
    "start_time": "2021-08-22T09:28:56.484Z"
   },
   {
    "duration": 5,
    "start_time": "2021-08-22T09:28:56.495Z"
   },
   {
    "duration": 9,
    "start_time": "2021-08-22T09:28:56.502Z"
   },
   {
    "duration": 57,
    "start_time": "2021-08-22T09:28:56.514Z"
   },
   {
    "duration": 19,
    "start_time": "2021-08-22T09:28:56.573Z"
   },
   {
    "duration": 13,
    "start_time": "2021-08-22T09:28:56.594Z"
   },
   {
    "duration": 12,
    "start_time": "2021-08-22T09:28:56.609Z"
   },
   {
    "duration": 10,
    "start_time": "2021-08-22T09:28:56.664Z"
   },
   {
    "duration": 13,
    "start_time": "2021-08-22T09:28:56.677Z"
   },
   {
    "duration": 10,
    "start_time": "2021-08-22T09:28:56.693Z"
   },
   {
    "duration": 12,
    "start_time": "2021-08-22T09:28:56.705Z"
   },
   {
    "duration": 10,
    "start_time": "2021-08-22T09:28:56.762Z"
   },
   {
    "duration": 19,
    "start_time": "2021-08-22T09:28:56.774Z"
   },
   {
    "duration": 8,
    "start_time": "2021-08-22T09:28:56.795Z"
   },
   {
    "duration": 6,
    "start_time": "2021-08-22T09:28:56.805Z"
   },
   {
    "duration": 49,
    "start_time": "2021-08-22T09:28:56.813Z"
   },
   {
    "duration": 6,
    "start_time": "2021-08-22T09:28:56.865Z"
   },
   {
    "duration": 9,
    "start_time": "2021-08-22T09:28:56.874Z"
   },
   {
    "duration": 17,
    "start_time": "2021-08-22T09:28:56.885Z"
   },
   {
    "duration": 60,
    "start_time": "2021-08-22T09:28:56.904Z"
   },
   {
    "duration": 19,
    "start_time": "2021-08-22T09:28:56.967Z"
   },
   {
    "duration": 45,
    "start_time": "2021-08-22T09:28:56.988Z"
   },
   {
    "duration": 55,
    "start_time": "2021-08-22T09:28:57.035Z"
   },
   {
    "duration": 32,
    "start_time": "2021-08-22T09:28:57.093Z"
   },
   {
    "duration": 36,
    "start_time": "2021-08-22T09:28:57.163Z"
   },
   {
    "duration": 31,
    "start_time": "2021-08-22T09:28:57.202Z"
   },
   {
    "duration": 53,
    "start_time": "2021-08-22T09:28:57.241Z"
   }
  ],
  "kernelspec": {
   "display_name": "Python 3",
   "language": "python",
   "name": "python3"
  },
  "language_info": {
   "codemirror_mode": {
    "name": "ipython",
    "version": 3
   },
   "file_extension": ".py",
   "mimetype": "text/x-python",
   "name": "python",
   "nbconvert_exporter": "python",
   "pygments_lexer": "ipython3",
   "version": "3.7.8"
  },
  "toc": {
   "base_numbering": 1,
   "nav_menu": {
    "height": "12px",
    "width": "160px"
   },
   "number_sections": true,
   "sideBar": true,
   "skip_h1_title": false,
   "title_cell": "Table of Contents",
   "title_sidebar": "Contents",
   "toc_cell": true,
   "toc_position": {},
   "toc_section_display": true,
   "toc_window_display": true
  }
 },
 "nbformat": 4,
 "nbformat_minor": 2
}
